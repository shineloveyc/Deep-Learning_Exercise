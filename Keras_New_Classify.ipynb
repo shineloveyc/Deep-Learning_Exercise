{
  "nbformat": 4,
  "nbformat_minor": 0,
  "metadata": {
    "colab": {
      "name": "Keras_New_Classify.ipynb",
      "version": "0.3.2",
      "provenance": [],
      "include_colab_link": true
    },
    "kernelspec": {
      "name": "python3",
      "display_name": "Python 3"
    }
  },
  "cells": [
    {
      "cell_type": "markdown",
      "metadata": {
        "id": "view-in-github",
        "colab_type": "text"
      },
      "source": [
        "<a href=\"https://colab.research.google.com/github/shineloveyc/DL_with_Keras/blob/master/Keras_New_Classify.ipynb\" target=\"_parent\"><img src=\"https://colab.research.google.com/assets/colab-badge.svg\" alt=\"Open In Colab\"/></a>"
      ]
    },
    {
      "cell_type": "markdown",
      "metadata": {
        "id": "zDdmDHR0vWDO",
        "colab_type": "text"
      },
      "source": [
        "*This is a multiclass classification problem"
      ]
    },
    {
      "cell_type": "code",
      "metadata": {
        "id": "oGRESRO2u_NF",
        "colab_type": "code",
        "colab": {}
      },
      "source": [
        "# load the data\n",
        "from keras.datasets import reuters\n",
        "\n",
        "(train_data, train_labels), (test_data, test_labels) = reuters.load_data(num_words = 10000)"
      ],
      "execution_count": 0,
      "outputs": []
    },
    {
      "cell_type": "code",
      "metadata": {
        "id": "FWW1eqvav39M",
        "colab_type": "code",
        "colab": {
          "base_uri": "https://localhost:8080/",
          "height": 51
        },
        "outputId": "29016bf8-346d-4ce2-ab47-e887b3aa1bf9"
      },
      "source": [
        "print(len(train_data))\n",
        "print(len(test_data))"
      ],
      "execution_count": 40,
      "outputs": [
        {
          "output_type": "stream",
          "text": [
            "8982\n",
            "2246\n"
          ],
          "name": "stdout"
        }
      ]
    },
    {
      "cell_type": "code",
      "metadata": {
        "id": "pUIyotA6wE6b",
        "colab_type": "code",
        "colab": {
          "base_uri": "https://localhost:8080/",
          "height": 54
        },
        "outputId": "221ff2ff-a09e-46b4-abe3-b4779afdf319"
      },
      "source": [
        "#each sample is a list of embeding integer\n",
        "print(' '.join(map(str, train_data[0])))  "
      ],
      "execution_count": 41,
      "outputs": [
        {
          "output_type": "stream",
          "text": [
            "1 2 2 8 43 10 447 5 25 207 270 5 3095 111 16 369 186 90 67 7 89 5 19 102 6 19 124 15 90 67 84 22 482 26 7 48 4 49 8 864 39 209 154 6 151 6 83 11 15 22 155 11 15 7 48 9 4579 1005 504 6 258 6 272 11 15 22 134 44 11 15 16 8 197 1245 90 67 52 29 209 30 32 132 6 109 15 17 12\n"
          ],
          "name": "stdout"
        }
      ]
    },
    {
      "cell_type": "code",
      "metadata": {
        "id": "Z25ZFBNqxOUS",
        "colab_type": "code",
        "colab": {}
      },
      "source": [
        "#vectorization the list to tensor\n",
        "#prepare the data==> turning the list of words to tensor\n",
        "# Encoding the integer sequence into a binary matrix(one- hot encoding)\n",
        "import numpy as np\n",
        "def vector_seq (seq, dim = 10000):\n",
        "  results = np.zeros((len(seq), dim))\n",
        "  for i, seq in enumerate(seq):\n",
        "      results[i, seq] = 1.\n",
        "  return results"
      ],
      "execution_count": 0,
      "outputs": []
    },
    {
      "cell_type": "code",
      "metadata": {
        "id": "jsVD6WpHzrs5",
        "colab_type": "code",
        "colab": {}
      },
      "source": [
        "#change the data\n",
        "x_train = vector_seq(train_data)\n",
        "x_test = vector_seq(test_data)"
      ],
      "execution_count": 0,
      "outputs": []
    },
    {
      "cell_type": "code",
      "metadata": {
        "id": "Qig76TNc1U6B",
        "colab_type": "code",
        "colab": {}
      },
      "source": [
        "#change muticlass labels to categorical factors\n",
        "from keras.utils.np_utils import to_categorical\n",
        "one_hot_train_labels = to_categorical(train_labels)\n",
        "one_hot_test_labels = to_categorical(test_labels)"
      ],
      "execution_count": 0,
      "outputs": []
    },
    {
      "cell_type": "code",
      "metadata": {
        "id": "a26dp8Rfxmqo",
        "colab_type": "code",
        "colab": {}
      },
      "source": [
        "#build the model with 64 layers\n",
        "from keras import models\n",
        "from keras import layers\n",
        "\n",
        "model = models.Sequential()\n",
        "model.add(layers.Dense(64, activation='relu', input_shape = (10000,)))\n",
        "model.add(layers.Dense(64, activation='relu'))\n",
        "model.add(layers.Dense(46,activation='softmax'))\n"
      ],
      "execution_count": 0,
      "outputs": []
    },
    {
      "cell_type": "code",
      "metadata": {
        "id": "q_c88zwby7Mi",
        "colab_type": "code",
        "colab": {}
      },
      "source": [
        "#compile the model\n",
        "from keras import optimizers\n",
        "from keras import losses\n",
        "\n",
        "model.compile(optimizer = 'rmsprop',\n",
        "             loss = 'categorical_crossentropy',\n",
        "             metrics = ['accuracy'])"
      ],
      "execution_count": 0,
      "outputs": []
    },
    {
      "cell_type": "code",
      "metadata": {
        "id": "lGbw2-sGznwd",
        "colab_type": "code",
        "colab": {
          "base_uri": "https://localhost:8080/",
          "height": 714
        },
        "outputId": "cf188d65-c070-48b0-92e4-1d073a96bc0e"
      },
      "source": [
        "#train the model\n",
        "history = model.fit(x = x_train, y = one_hot_train_labels, epochs = 20, validation_split=0.3, shuffle=True, batch_size=512)"
      ],
      "execution_count": 47,
      "outputs": [
        {
          "output_type": "stream",
          "text": [
            "Train on 6287 samples, validate on 2695 samples\n",
            "Epoch 1/20\n",
            "6287/6287 [==============================] - 1s 178us/step - loss: 2.6875 - acc: 0.4994 - val_loss: 1.8116 - val_acc: 0.6137\n",
            "Epoch 2/20\n",
            "6287/6287 [==============================] - 1s 145us/step - loss: 1.4931 - acc: 0.6812 - val_loss: 1.3804 - val_acc: 0.7098\n",
            "Epoch 3/20\n",
            "6287/6287 [==============================] - 1s 143us/step - loss: 1.1111 - acc: 0.7670 - val_loss: 1.2025 - val_acc: 0.7421\n",
            "Epoch 4/20\n",
            "6287/6287 [==============================] - 1s 144us/step - loss: 0.8852 - acc: 0.8215 - val_loss: 1.0947 - val_acc: 0.7647\n",
            "Epoch 5/20\n",
            "6287/6287 [==============================] - 1s 143us/step - loss: 0.7126 - acc: 0.8554 - val_loss: 1.0283 - val_acc: 0.7781\n",
            "Epoch 6/20\n",
            "6287/6287 [==============================] - 1s 149us/step - loss: 0.5780 - acc: 0.8807 - val_loss: 1.0140 - val_acc: 0.7770\n",
            "Epoch 7/20\n",
            "6287/6287 [==============================] - 1s 143us/step - loss: 0.4660 - acc: 0.9057 - val_loss: 0.9572 - val_acc: 0.7959\n",
            "Epoch 8/20\n",
            "6287/6287 [==============================] - 1s 146us/step - loss: 0.3778 - acc: 0.9259 - val_loss: 0.9987 - val_acc: 0.7800\n",
            "Epoch 9/20\n",
            "6287/6287 [==============================] - 1s 150us/step - loss: 0.3129 - acc: 0.9384 - val_loss: 1.0222 - val_acc: 0.7688\n",
            "Epoch 10/20\n",
            "6287/6287 [==============================] - 1s 144us/step - loss: 0.2609 - acc: 0.9461 - val_loss: 0.9411 - val_acc: 0.8041\n",
            "Epoch 11/20\n",
            "6287/6287 [==============================] - 1s 146us/step - loss: 0.2166 - acc: 0.9534 - val_loss: 0.9689 - val_acc: 0.7989\n",
            "Epoch 12/20\n",
            "6287/6287 [==============================] - 1s 148us/step - loss: 0.1873 - acc: 0.9580 - val_loss: 0.9961 - val_acc: 0.7870\n",
            "Epoch 13/20\n",
            "6287/6287 [==============================] - 1s 148us/step - loss: 0.1612 - acc: 0.9625 - val_loss: 0.9969 - val_acc: 0.8033\n",
            "Epoch 14/20\n",
            "6287/6287 [==============================] - 1s 148us/step - loss: 0.1444 - acc: 0.9625 - val_loss: 1.0309 - val_acc: 0.7874\n",
            "Epoch 15/20\n",
            "6287/6287 [==============================] - 1s 149us/step - loss: 0.1299 - acc: 0.9641 - val_loss: 1.0241 - val_acc: 0.7985\n",
            "Epoch 16/20\n",
            "6287/6287 [==============================] - 1s 148us/step - loss: 0.1171 - acc: 0.9668 - val_loss: 1.0615 - val_acc: 0.7922\n",
            "Epoch 17/20\n",
            "6287/6287 [==============================] - 1s 146us/step - loss: 0.1070 - acc: 0.9668 - val_loss: 1.0820 - val_acc: 0.7892\n",
            "Epoch 18/20\n",
            "6287/6287 [==============================] - 1s 148us/step - loss: 0.0992 - acc: 0.9690 - val_loss: 1.0516 - val_acc: 0.7996\n",
            "Epoch 19/20\n",
            "6287/6287 [==============================] - 1s 148us/step - loss: 0.1004 - acc: 0.9676 - val_loss: 1.2213 - val_acc: 0.7699\n",
            "Epoch 20/20\n",
            "6287/6287 [==============================] - 1s 151us/step - loss: 0.0921 - acc: 0.9685 - val_loss: 1.1776 - val_acc: 0.7844\n"
          ],
          "name": "stdout"
        }
      ]
    },
    {
      "cell_type": "code",
      "metadata": {
        "id": "BN9VhdrW2LHQ",
        "colab_type": "code",
        "colab": {
          "base_uri": "https://localhost:8080/",
          "height": 295
        },
        "outputId": "80dc0a40-bafc-4f87-a177-0e5983a6d261"
      },
      "source": [
        "#plot the train and validation loss\n",
        "import matplotlib.pyplot as pt\n",
        "\n",
        "train_loss = history.history['loss']\n",
        "val_loss = history.history['val_loss']\n",
        "epochs = range(1, len(train_loss)+1)\n",
        "\n",
        "pt.plot(epochs,train_loss,'bo', label = 'Training Loss')\n",
        "pt.plot(epochs, val_loss, 'b', label = 'Validation Loss')\n",
        "pt.title(\"Traing loss vs validation loss\")\n",
        "pt.xlabel(\"epochs\")\n",
        "pt.ylabel('Loss')\n",
        "pt.legend()\n",
        "pt.show()"
      ],
      "execution_count": 51,
      "outputs": [
        {
          "output_type": "display_data",
          "data": {
            "image/png": "[encoded data removed]",
            "text/plain": [
              "<Figure size 432x288 with 1 Axes>"
            ]
          },
          "metadata": {
            "tags": []
          }
        }
      ]
    },
    {
      "cell_type": "markdown",
      "metadata": {
        "id": "SByJmkNz8hwT",
        "colab_type": "text"
      },
      "source": [
        "It can be seen from the graph, the performance of validation set starting drop at epoch 10, which means the model starts overfitting"
      ]
    },
    {
      "cell_type": "code",
      "metadata": {
        "id": "f1JjsmvO2n5i",
        "colab_type": "code",
        "colab": {
          "base_uri": "https://localhost:8080/",
          "height": 295
        },
        "outputId": "39fbcbc3-a714-40cd-f24b-ca62c69ae316"
      },
      "source": [
        "#plot the accuracy\n",
        "train_acc = history.history['acc']\n",
        "val_acc = history.history['val_acc']\n",
        "epochs = range(1, len(train_acc)+1)\n",
        "\n",
        "pt.plot(epochs,train_acc,'bo', label = 'Training Acc')\n",
        "pt.plot(epochs, val_acc, 'b', label = 'Validation Acc')\n",
        "pt.title(\"Traing accuracy vs validation accuracy\")\n",
        "pt.xlabel(\"epochs\")\n",
        "pt.ylabel('Accuracy')\n",
        "pt.legend()\n",
        "pt.show()"
      ],
      "execution_count": 52,
      "outputs": [
        {
          "output_type": "display_data",
          "data": {
            "image/png": "[encoded data removed]",
            "text/plain": [
              "<Figure size 432x288 with 1 Axes>"
            ]
          },
          "metadata": {
            "tags": []
          }
        }
      ]
    },
    {
      "cell_type": "code",
      "metadata": {
        "id": "04pMI8D29Q5b",
        "colab_type": "code",
        "colab": {
          "base_uri": "https://localhost:8080/",
          "height": 374
        },
        "outputId": "3b8f56a1-66ef-496d-9934-a5ca75908664"
      },
      "source": [
        "#build the new model\n",
        "model.fit(x = x_train, y = one_hot_train_labels, epochs = 10, batch_size=512)"
      ],
      "execution_count": 53,
      "outputs": [
        {
          "output_type": "stream",
          "text": [
            "Epoch 1/10\n",
            "8982/8982 [==============================] - 2s 227us/step - loss: 0.3824 - acc: 0.9189\n",
            "Epoch 2/10\n",
            "8982/8982 [==============================] - 1s 119us/step - loss: 0.2742 - acc: 0.9335\n",
            "Epoch 3/10\n",
            "8982/8982 [==============================] - 1s 118us/step - loss: 0.2243 - acc: 0.9429\n",
            "Epoch 4/10\n",
            "8982/8982 [==============================] - 1s 119us/step - loss: 0.1883 - acc: 0.9496\n",
            "Epoch 5/10\n",
            "8982/8982 [==============================] - 1s 119us/step - loss: 0.1715 - acc: 0.9513\n",
            "Epoch 6/10\n",
            "8982/8982 [==============================] - 1s 121us/step - loss: 0.1540 - acc: 0.9511\n",
            "Epoch 7/10\n",
            "8982/8982 [==============================] - 1s 126us/step - loss: 0.1430 - acc: 0.9536\n",
            "Epoch 8/10\n",
            "8982/8982 [==============================] - 1s 154us/step - loss: 0.1333 - acc: 0.9529\n",
            "Epoch 9/10\n",
            "8982/8982 [==============================] - 1s 137us/step - loss: 0.1280 - acc: 0.9568\n",
            "Epoch 10/10\n",
            "8982/8982 [==============================] - 1s 151us/step - loss: 0.1243 - acc: 0.9549\n"
          ],
          "name": "stdout"
        },
        {
          "output_type": "execute_result",
          "data": {
            "text/plain": [
              "<keras.callbacks.History at 0x7f31d8767198>"
            ]
          },
          "metadata": {
            "tags": []
          },
          "execution_count": 53
        }
      ]
    },
    {
      "cell_type": "code",
      "metadata": {
        "id": "ug_zSc4i_NEz",
        "colab_type": "code",
        "colab": {}
      },
      "source": [
        "#predict the new set\n",
        "pred = model.predict(x_test)"
      ],
      "execution_count": 0,
      "outputs": []
    },
    {
      "cell_type": "code",
      "metadata": {
        "id": "yNGnPRR5_ZDf",
        "colab_type": "code",
        "colab": {
          "base_uri": "https://localhost:8080/",
          "height": 34
        },
        "outputId": "56de516c-5f93-4880-b6d8-b03f48e476d4"
      },
      "source": [
        "pred[0].shape"
      ],
      "execution_count": 55,
      "outputs": [
        {
          "output_type": "execute_result",
          "data": {
            "text/plain": [
              "(46,)"
            ]
          },
          "metadata": {
            "tags": []
          },
          "execution_count": 55
        }
      ]
    },
    {
      "cell_type": "code",
      "metadata": {
        "id": "1yx1xHtJ_mIO",
        "colab_type": "code",
        "colab": {
          "base_uri": "https://localhost:8080/",
          "height": 34
        },
        "outputId": "f73e0ce8-b95b-48ad-d313-7ed97614df11"
      },
      "source": [
        "#the shape of the prediction is 46, which means the possibility of each topic\n",
        "np.sum(pred[0], axis = 0)"
      ],
      "execution_count": 57,
      "outputs": [
        {
          "output_type": "execute_result",
          "data": {
            "text/plain": [
              "1.0000002"
            ]
          },
          "metadata": {
            "tags": []
          },
          "execution_count": 57
        }
      ]
    },
    {
      "cell_type": "code",
      "metadata": {
        "id": "ECcS7BVA_8P9",
        "colab_type": "code",
        "colab": {
          "base_uri": "https://localhost:8080/",
          "height": 34
        },
        "outputId": "7c2e9dd5-e12f-4323-dcae-7bdfac08f2c7"
      },
      "source": [
        "#the topic with the largest possibility in the first output\n",
        "np.argmax(pred[0])"
      ],
      "execution_count": 58,
      "outputs": [
        {
          "output_type": "execute_result",
          "data": {
            "text/plain": [
              "3"
            ]
          },
          "metadata": {
            "tags": []
          },
          "execution_count": 58
        }
      ]
    },
    {
      "cell_type": "code",
      "metadata": {
        "id": "SyWFEjnyD019",
        "colab_type": "code",
        "colab": {
          "base_uri": "https://localhost:8080/",
          "height": 51
        },
        "outputId": "aa7bd8f7-41a4-42a3-ae4a-6f06520a7a60"
      },
      "source": [
        "model.evaluate(x_test, one_hot_test_labels)"
      ],
      "execution_count": 59,
      "outputs": [
        {
          "output_type": "stream",
          "text": [
            "2246/2246 [==============================] - 0s 148us/step\n"
          ],
          "name": "stdout"
        },
        {
          "output_type": "execute_result",
          "data": {
            "text/plain": [
              "[1.1680587310400374, 0.7925200356719543]"
            ]
          },
          "metadata": {
            "tags": []
          },
          "execution_count": 59
        }
      ]
    }
  ]
}