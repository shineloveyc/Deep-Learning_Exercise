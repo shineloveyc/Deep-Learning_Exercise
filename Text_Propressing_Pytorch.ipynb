{
  "nbformat": 4,
  "nbformat_minor": 0,
  "metadata": {
    "colab": {
      "name": "Text_Propressing_Pytorch.ipynb",
      "provenance": [],
      "toc_visible": true,
      "authorship_tag": "ABX9TyPsKZjXeMpwu4jILQ3tXNcG",
      "include_colab_link": true
    },
    "kernelspec": {
      "name": "python3",
      "display_name": "Python 3"
    }
  },
  "cells": [
    {
      "cell_type": "markdown",
      "metadata": {
        "id": "view-in-github",
        "colab_type": "text"
      },
      "source": [
        "<a href=\"https://colab.research.google.com/github/shineloveyc/Deep-Learning_Exercise/blob/main/Text_Propressing_Pytorch.ipynb\" target=\"_parent\"><img src=\"https://colab.research.google.com/assets/colab-badge.svg\" alt=\"Open In Colab\"/></a>"
      ]
    },
    {
      "cell_type": "markdown",
      "metadata": {
        "id": "0uJOw6IELlvS"
      },
      "source": [
        "# Load the data from URL "
      ]
    },
    {
      "cell_type": "code",
      "metadata": {
        "id": "S1zW2lJV6TMb"
      },
      "source": [
        "import torch\n",
        "import numpy as np\n",
        "import pandas as pd\n",
        "import matplotlib.pyplot as plt"
      ],
      "execution_count": null,
      "outputs": []
    },
    {
      "cell_type": "code",
      "metadata": {
        "id": "IProsltm5DB_"
      },
      "source": [
        "path = 'http://www.gutenberg.org/files/1342/1342-0.txt'\n",
        "\n",
        "from urllib.request import urlopen\n",
        "\n",
        "f = urlopen(path)\n",
        "text = f.read()\n"
      ],
      "execution_count": null,
      "outputs": []
    },
    {
      "cell_type": "code",
      "metadata": {
        "id": "W1zQTPXT_eTd"
      },
      "source": [
        "text = text.decode(\"utf-8\")"
      ],
      "execution_count": null,
      "outputs": []
    },
    {
      "cell_type": "markdown",
      "metadata": {
        "id": "3zIwJZkTLiWA"
      },
      "source": [
        "# One Hot Encoding Data"
      ]
    },
    {
      "cell_type": "code",
      "metadata": {
        "id": "qm1Ptjir97we",
        "colab": {
          "base_uri": "https://localhost:8080/",
          "height": 34
        },
        "outputId": "293ddb85-6663-47d3-9cb8-0cc966f6bf8a"
      },
      "source": [
        "\"\"\"ASCII encodes 128 characters using 128 integers. \n",
        "Popular encod- ings include UTF-8, UTF-16 and UTF-32, \n",
        "in which the numbers are a sequence of 8-, 16-, or 32-bit integers. Strings in Python 3.x are Unicode strings.\"\"\"\n",
        "lines = text.split('\\n')\n",
        "line = lines[300]\n",
        "line"
      ],
      "execution_count": null,
      "outputs": [
        {
          "output_type": "execute_result",
          "data": {
            "text/plain": [
              "'      daughter employed in trimming a hat, he suddenly addressed her\\r'"
            ]
          },
          "metadata": {
            "tags": []
          },
          "execution_count": 20
        }
      ]
    },
    {
      "cell_type": "code",
      "metadata": {
        "id": "-h41wAC4B5ZL",
        "colab": {
          "base_uri": "https://localhost:8080/",
          "height": 34
        },
        "outputId": "ceac0e97-1990-43b1-eb64-434907393343"
      },
      "source": [
        "#128 hardcode due to the limit of ASCII\n",
        "letter_tensor = torch.zeros(len(line), 128)\n",
        "letter_tensor.shape"
      ],
      "execution_count": null,
      "outputs": [
        {
          "output_type": "execute_result",
          "data": {
            "text/plain": [
              "torch.Size([69, 128])"
            ]
          },
          "metadata": {
            "tags": []
          },
          "execution_count": 21
        }
      ]
    },
    {
      "cell_type": "code",
      "metadata": {
        "id": "SlXojRLFC6lI"
      },
      "source": [
        "#set 1 on each row in the right position\n",
        "#ord()Given a string of length one, return an integer representing the Unicode code point of the character when the argument is a unicode object\n",
        "for i, letter in enumerate(line.lower().strip()):\n",
        "  letter_index = ord(letter) if ord(letter) < 128 else 0\n",
        "  letter_tensor[i][letter_index] = 1"
      ],
      "execution_count": null,
      "outputs": []
    },
    {
      "cell_type": "markdown",
      "metadata": {
        "id": "xzaiPZM8EXka"
      },
      "source": [
        "Same way above could be used to tenosr word, create vocabulary and one-hot encoding setences, sequences of words, along the rows of the tensor"
      ]
    },
    {
      "cell_type": "code",
      "metadata": {
        "id": "gjHjZ7ZoETio"
      },
      "source": [
        "#def clean words\n",
        "def clean_words(input_str):\n",
        "  punctuation = '.,:\"!?\"\"_-'\n",
        "  word_list = input_str.lower().replace('\\n', '').split()\n",
        "  #remove punctuation\n",
        "  word_list = [word.strip(punctuation) for word in word_list]\n",
        "  return word_list\n",
        "\n",
        "words_in_line = clean_words(line)"
      ],
      "execution_count": null,
      "outputs": []
    },
    {
      "cell_type": "code",
      "metadata": {
        "id": "OapjwwTKI4v1",
        "colab": {
          "base_uri": "https://localhost:8080/",
          "height": 34
        },
        "outputId": "37d7068e-6649-4062-c6be-c417ffdfe00b"
      },
      "source": [
        "#define a dictionary of words in document\n",
        "word_dict = sorted(set(clean_words(text)))\n",
        "\n",
        "#index the dict\n",
        "word2index_dict = {word: i for (i, word) in enumerate(word_dict)}\n",
        "\n",
        "len(word2index_dict), word2index_dict['impossible']"
      ],
      "execution_count": null,
      "outputs": [
        {
          "output_type": "execute_result",
          "data": {
            "text/plain": [
              "(9268, 4159)"
            ]
          },
          "metadata": {
            "tags": []
          },
          "execution_count": 24
        }
      ]
    },
    {
      "cell_type": "code",
      "metadata": {
        "id": "UKAd1FC1JrmJ",
        "colab": {
          "base_uri": "https://localhost:8080/",
          "height": 204
        },
        "outputId": "eeeb74d4-737b-4f8d-d715-5edeb58a842f"
      },
      "source": [
        "#one-hot encoding text\n",
        "word_tensor = torch.zeros(len(words_in_line), len(word2index_dict))\n",
        "\n",
        "for i, word in enumerate(words_in_line):\n",
        "  #get dict key\n",
        "  word_index = word2index_dict[word]\n",
        "  word_tensor[i][word_index] =1\n",
        "  print('{:2} {:4}'.format(i, word_index, word))\n",
        "\n",
        "print(word_tensor.shape)"
      ],
      "execution_count": null,
      "outputs": [
        {
          "output_type": "stream",
          "text": [
            " 0 2011\n",
            " 1 2714\n",
            " 2 4189\n",
            " 3 8211\n",
            " 4  136\n",
            " 5 3802\n",
            " 6 3819\n",
            " 7 7771\n",
            " 8  271\n",
            " 9 3868\n",
            "torch.Size([10, 9268])\n"
          ],
          "name": "stdout"
        }
      ]
    },
    {
      "cell_type": "markdown",
      "metadata": {
        "id": "3HYhNURs4e9p"
      },
      "source": [
        "# One Hot Encoding using Skelarn"
      ]
    },
    {
      "cell_type": "code",
      "metadata": {
        "id": "uiMMyUkX4lOE"
      },
      "source": [
        "from sklearn.feature_extraction.text import CountVectorizer"
      ],
      "execution_count": null,
      "outputs": []
    },
    {
      "cell_type": "code",
      "metadata": {
        "id": "AUE22lxQ4yMr",
        "colab": {
          "base_uri": "https://localhost:8080/",
          "height": 517
        },
        "outputId": "8091f9f6-cd04-45ab-bd5d-41c475912c2c"
      },
      "source": [
        "one_hot_vectorizer = CountVectorizer(binary=True)\n",
        "\n",
        "one_hot = one_hot_vectorizer.fit_transform(words_in_line).toarray()\n",
        "\n",
        "import seaborn as sns\n",
        "\n",
        "sns.set(rc={'figure.figsize':(11.7,8.27)})\n",
        "\n",
        "sns.heatmap(one_hot, annot = True, cbar = False)"
      ],
      "execution_count": null,
      "outputs": [
        {
          "output_type": "execute_result",
          "data": {
            "text/plain": [
              "<matplotlib.axes._subplots.AxesSubplot at 0x7f88afc71eb8>"
            ]
          },
          "metadata": {
            "tags": []
          },
          "execution_count": 27
        },
        {
          "output_type": "display_data",
          "data": {
            "image/png": "[encoded data removed]",
            "text/plain": [
              "<Figure size 842.4x595.44 with 1 Axes>"
            ]
          },
          "metadata": {
            "tags": []
          }
        }
      ]
    },
    {
      "cell_type": "code",
      "metadata": {
        "id": "lN79HJ0Y6TVh",
        "colab": {
          "base_uri": "https://localhost:8080/",
          "height": 534
        },
        "outputId": "c9475148-50d8-4cfd-8d1c-d7d7afc0cd5e"
      },
      "source": [
        "#TF-IDF Representation\n",
        "from sklearn.feature_extraction.text import TfidfVectorizer\n",
        "\n",
        "#sample_line = list(map(clean_words, lines[:50]))\n",
        "\n",
        "tfidf_vectorizer = TfidfVectorizer()\n",
        "\n",
        "tfidf = tfidf_vectorizer.fit_transform(lines[:10]).toarray()\n",
        "\n",
        "sns.set(rc={'figure.figsize':(11.7,8.27)})\n",
        "\n",
        "sns.heatmap(tfidf, annot = True, cbar = False)\n",
        "\n",
        "plt.ylabel('Setence')\n",
        "\n",
        "plt.xlabel('Word')"
      ],
      "execution_count": null,
      "outputs": [
        {
          "output_type": "execute_result",
          "data": {
            "text/plain": [
              "Text(0.5, 50.92999999999999, 'Word')"
            ]
          },
          "metadata": {
            "tags": []
          },
          "execution_count": 28
        },
        {
          "output_type": "display_data",
          "data": {
            "image/png": "[encoded data removed]",
            "text/plain": [
              "<Figure size 842.4x595.44 with 1 Axes>"
            ]
          },
          "metadata": {
            "tags": []
          }
        }
      ]
    },
    {
      "cell_type": "markdown",
      "metadata": {
        "id": "UVOjEQBaizxl"
      },
      "source": [
        "# Tokenization"
      ]
    },
    {
      "cell_type": "code",
      "metadata": {
        "id": "A8OZ8_7ki7HC"
      },
      "source": [
        "#https://spacy.io/\n",
        "import spacy"
      ],
      "execution_count": null,
      "outputs": []
    },
    {
      "cell_type": "code",
      "metadata": {
        "id": "ZUoADNcHjAVH",
        "colab": {
          "base_uri": "https://localhost:8080/",
          "height": 34
        },
        "outputId": "2b029549-5fa3-4d3b-db10-02bbee3ba0ca"
      },
      "source": [
        "nlp = spacy.load('en')\n",
        "\n",
        "text = \"Mary, don't slap the green withch\"\n",
        "\n",
        "print([str(token) for token in nlp(text.lower())])"
      ],
      "execution_count": null,
      "outputs": [
        {
          "output_type": "stream",
          "text": [
            "['mary', ',', 'do', \"n't\", 'slap', 'the', 'green', 'withch']\n"
          ],
          "name": "stdout"
        }
      ]
    },
    {
      "cell_type": "code",
      "metadata": {
        "id": "JCb97FFnjh0U"
      },
      "source": [
        "#https://www.nltk.org/\n",
        "from nltk.tokenize import  TweetTokenizer"
      ],
      "execution_count": null,
      "outputs": []
    },
    {
      "cell_type": "code",
      "metadata": {
        "id": "ZqANAPEsjnpw",
        "colab": {
          "base_uri": "https://localhost:8080/",
          "height": 34
        },
        "outputId": "1cf85c4a-513b-49ed-9497-f4bf64210103"
      },
      "source": [
        "tweet = \"Snow White and the Seven Degrees #MakeAMovieCold@midnight:-)\"\n",
        "\n",
        "tokenizer = TweetTokenizer()\n",
        "\n",
        "print((tokenizer.tokenize(tweet.lower())))\n",
        "\n",
        "cleaned_tweet = tokenizer.tokenize(tweet.lower())"
      ],
      "execution_count": null,
      "outputs": [
        {
          "output_type": "stream",
          "text": [
            "['snow', 'white', 'and', 'the', 'seven', 'degrees', '#makeamoviecold', '@midnight', ':-)']\n"
          ],
          "name": "stdout"
        }
      ]
    },
    {
      "cell_type": "code",
      "metadata": {
        "id": "AcDjJ9c1WDQk",
        "colab": {
          "base_uri": "https://localhost:8080/",
          "height": 54
        },
        "outputId": "0099f58e-01a9-430b-e1c1-d92dbf577964"
      },
      "source": [
        "#generate ngram from text\n",
        "def n_grams(text, n):\n",
        "  return [text[i:i+n] for i in range (len(text) - n +1)]\n",
        "\n",
        "print(n_grams(cleaned_tweet, 3))"
      ],
      "execution_count": null,
      "outputs": [
        {
          "output_type": "stream",
          "text": [
            "[['snow', 'white', 'and'], ['white', 'and', 'the'], ['and', 'the', 'seven'], ['the', 'seven', 'degrees'], ['seven', 'degrees', '#makeamoviecold'], ['degrees', '#makeamoviecold', '@midnight'], ['#makeamoviecold', '@midnight', ':-)']]\n"
          ],
          "name": "stdout"
        }
      ]
    },
    {
      "cell_type": "code",
      "metadata": {
        "id": "CtgsVVkUW5ut",
        "colab": {
          "base_uri": "https://localhost:8080/",
          "height": 153
        },
        "outputId": "83530a3f-78ab-443e-be98-837207818a90"
      },
      "source": [
        "#lemmas and stems\n",
        "#lemmas are root forms of words ==> lemmatization\n",
        "import spacy\n",
        "nlp = spacy.load('en')\n",
        "\n",
        "#specify a unicode string\n",
        "doc = nlp(u'he was running late')\n",
        "\n",
        "for token in doc:\n",
        "  print('{} --> {}'.format(token, token.lemma_))\n",
        "\n",
        "for token in doc:\n",
        "  print('{} --> {}'.format(token, token.sentiment))"
      ],
      "execution_count": null,
      "outputs": [
        {
          "output_type": "stream",
          "text": [
            "he --> -PRON-\n",
            "was --> be\n",
            "running --> run\n",
            "late --> late\n",
            "he --> 0.0\n",
            "was --> 0.0\n",
            "running --> 0.0\n",
            "late --> 0.0\n"
          ],
          "name": "stdout"
        }
      ]
    },
    {
      "cell_type": "markdown",
      "metadata": {
        "id": "GLWt49f1asSJ"
      },
      "source": [
        "# Categorizing words is part of speech(POS)"
      ]
    },
    {
      "cell_type": "code",
      "metadata": {
        "id": "OWvkjvJIazzr",
        "colab": {
          "base_uri": "https://localhost:8080/",
          "height": 102
        },
        "outputId": "5f1ca6ad-de38-4102-c7ee-d22082abbd6a"
      },
      "source": [
        "doc = nlp(u'mary slapped the green witch')\n",
        "\n",
        "for token in doc:\n",
        "  print('{} - {}'.format(token, token.pos_))"
      ],
      "execution_count": null,
      "outputs": [
        {
          "output_type": "stream",
          "text": [
            "mary - NOUN\n",
            "slapped - VERB\n",
            "the - DET\n",
            "green - ADJ\n",
            "witch - NOUN\n"
          ],
          "name": "stdout"
        }
      ]
    },
    {
      "cell_type": "markdown",
      "metadata": {
        "id": "XcS5aDZPbX0h"
      },
      "source": [
        "# Chunking and Name Entity Recognition"
      ]
    },
    {
      "cell_type": "code",
      "metadata": {
        "id": "gUFXLsosbduc",
        "colab": {
          "base_uri": "https://localhost:8080/",
          "height": 51
        },
        "outputId": "f17c0d19-1e80-457e-94a5-677e5f6d12fa"
      },
      "source": [
        "#print Noun Phrase(NP)\n",
        "for chunk in doc.noun_chunks:\n",
        "  print('{} - {}'.format(chunk, chunk.label_))"
      ],
      "execution_count": null,
      "outputs": [
        {
          "output_type": "stream",
          "text": [
            "mary - NP\n",
            "the green witch - NP\n"
          ],
          "name": "stdout"
        }
      ]
    },
    {
      "cell_type": "markdown",
      "metadata": {
        "id": "UWGyrQq_LZpG"
      },
      "source": [
        "# Text Embedding"
      ]
    },
    {
      "cell_type": "markdown",
      "metadata": {
        "id": "QYuJwgqyMsrW"
      },
      "source": [
        "Embeddings are often generated by using neural networks, trying to predict a word from nearby words (the context) in a sen- tence. In this case, you could start from one-hot encoded words and use a (usually rather shallow) neural network to generate the embedding. When the embedding is available, you could use it for downstream tasks."
      ]
    }
  ]
}