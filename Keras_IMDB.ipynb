{
  "nbformat": 4,
  "nbformat_minor": 0,
  "metadata": {
    "colab": {
      "name": "Keras_IMDB.ipynb",
      "version": "0.3.2",
      "provenance": [],
      "machine_shape": "hm",
      "include_colab_link": true
    },
    "kernelspec": {
      "name": "python3",
      "display_name": "Python 3"
    },
    "accelerator": "GPU"
  },
  "cells": [
    {
      "cell_type": "markdown",
      "metadata": {
        "id": "view-in-github",
        "colab_type": "text"
      },
      "source": [
        "<a href=\"https://colab.research.google.com/github/shineloveyc/DL_with_Keras/blob/master/Keras_IMDB.ipynb\" target=\"_parent\"><img src=\"https://colab.research.google.com/assets/colab-badge.svg\" alt=\"Open In Colab\"/></a>"
      ]
    },
    {
      "cell_type": "markdown",
      "metadata": {
        "id": "kT92WfX_QzTm",
        "colab_type": "text"
      },
      "source": [
        "*IMDB data set : a set of 50,000 highly polarized reviews from the\n",
        "Internet Movie Database. They’re split into 25,000 reviews for training and 25,000\n",
        "reviews for testing, each set consisting of 50% negative and 50% positive reviews.\n",
        "\n",
        "*Just like the MNIST dataset, the IMDB dataset comes packaged with Keras. It has\n",
        "already been preprocessed: the reviews (sequences of words) have been turned into\n",
        "sequences of integers, where each integer stands for a specific word in a dictionary."
      ]
    },
    {
      "cell_type": "code",
      "metadata": {
        "id": "V4NBsdCNOteY",
        "colab_type": "code",
        "colab": {
          "base_uri": "https://localhost:8080/",
          "height": 68
        },
        "outputId": "63b8c902-3acf-4a67-ccb7-f8cba8f0501d"
      },
      "source": [
        "from keras.datasets import imdb\n",
        "\n",
        "# load top 10000 most frequently occuring words, words being encoded to a dictionary based on frequency\n",
        "(train_data, train_labels), (test_data, test_labels) = imdb.load_data(num_words = 10000)"
      ],
      "execution_count": 1,
      "outputs": [
        {
          "output_type": "stream",
          "text": [
            "Using TensorFlow backend.\n"
          ],
          "name": "stderr"
        },
        {
          "output_type": "stream",
          "text": [
            "Downloading data from https://s3.amazonaws.com/text-datasets/imdb.npz\n",
            "17465344/17464789 [==============================] - 0s 0us/step\n"
          ],
          "name": "stdout"
        }
      ]
    },
    {
      "cell_type": "code",
      "metadata": {
        "id": "FjgnaKvNRPmu",
        "colab_type": "code",
        "outputId": "85f6ee64-12d6-411c-f556-d6e96252d42d",
        "colab": {
          "base_uri": "https://localhost:8080/",
          "height": 51
        }
      },
      "source": [
        "#each word has been encoding to a integer, and each sample is a list of review(include list of integer)\n",
        "train_data[0]\n",
        "type(train_data)\n",
        "# output sample size\n",
        "print(train_data.shape)\n",
        "print(train_data.ndim)"
      ],
      "execution_count": 2,
      "outputs": [
        {
          "output_type": "stream",
          "text": [
            "(25000,)\n",
            "1\n"
          ],
          "name": "stdout"
        }
      ]
    },
    {
      "cell_type": "code",
      "metadata": {
        "id": "dmjaMo-APP-8",
        "colab_type": "code",
        "outputId": "dcbb9d3e-00c4-43e5-e7a6-df8409789097",
        "colab": {
          "base_uri": "https://localhost:8080/",
          "height": 34
        }
      },
      "source": [
        "# training label is 1 or 0 to indicate positive and negative\n",
        "train_labels[0]"
      ],
      "execution_count": 3,
      "outputs": [
        {
          "output_type": "execute_result",
          "data": {
            "text/plain": [
              "1"
            ]
          },
          "metadata": {
            "tags": []
          },
          "execution_count": 3
        }
      ]
    },
    {
      "cell_type": "code",
      "metadata": {
        "id": "bO5ImyCORxE-",
        "colab_type": "code",
        "outputId": "545e7f5a-5225-4f54-8a70-0c4fba950054",
        "colab": {
          "base_uri": "https://localhost:8080/",
          "height": 68
        }
      },
      "source": [
        "#decoding the word\n",
        "word_index = imdb.get_word_index()\n",
        "reverse_word_index = dict(\n",
        "[(value, key) for (key, value) in word_index.items()])\n",
        "decoded_review = ' '.join(\n",
        "[reverse_word_index.get(i - 3, '?') for i in train_data[0]])\n",
        "print(reverse_word_index[999])\n"
      ],
      "execution_count": 4,
      "outputs": [
        {
          "output_type": "stream",
          "text": [
            "Downloading data from https://s3.amazonaws.com/text-datasets/imdb_word_index.json\n",
            "1646592/1641221 [==============================] - 0s 0us/step\n",
            "cop\n"
          ],
          "name": "stdout"
        }
      ]
    },
    {
      "cell_type": "code",
      "metadata": {
        "id": "fl85yo2MSclI",
        "colab_type": "code",
        "outputId": "e4908db3-ce6a-4312-d59a-f11bb9a965bc",
        "colab": {
          "base_uri": "https://localhost:8080/",
          "height": 34
        }
      },
      "source": [
        "print(reverse_word_index[999])"
      ],
      "execution_count": 5,
      "outputs": [
        {
          "output_type": "stream",
          "text": [
            "cop\n"
          ],
          "name": "stdout"
        }
      ]
    },
    {
      "cell_type": "code",
      "metadata": {
        "id": "PmuYM73wSgzt",
        "colab_type": "code",
        "colab": {}
      },
      "source": [
        "#prepare the data==> turning the list of words to tensor\n",
        "# Encoding the integer sequence into a binary matrix(one- hot encoding)\n",
        "import numpy as np\n",
        "def vector_seq (seq, dim = 10000):\n",
        "  results = np.zeros((len(seq), dim))\n",
        "  for i, seq in enumerate(seq):\n",
        "      results[i, seq] = 1.\n",
        "  return results"
      ],
      "execution_count": 0,
      "outputs": []
    },
    {
      "cell_type": "code",
      "metadata": {
        "id": "tywpkiIcW-u-",
        "colab_type": "code",
        "colab": {}
      },
      "source": [
        "# vectorize train and test features\n",
        "x_train = vector_seq(train_data)\n",
        "x_test = vector_seq(test_data)"
      ],
      "execution_count": 0,
      "outputs": []
    },
    {
      "cell_type": "code",
      "metadata": {
        "id": "kaTDI7aMct-n",
        "colab_type": "code",
        "colab": {}
      },
      "source": [
        ""
      ],
      "execution_count": 0,
      "outputs": []
    },
    {
      "cell_type": "code",
      "metadata": {
        "id": "3BcvxfSVXWAF",
        "colab_type": "code",
        "outputId": "5db6be56-ff5d-43c8-ff54-9de42c7076d7",
        "colab": {
          "base_uri": "https://localhost:8080/",
          "height": 34
        }
      },
      "source": [
        "# sample out put after encoding\n",
        "x_train[0]"
      ],
      "execution_count": 8,
      "outputs": [
        {
          "output_type": "execute_result",
          "data": {
            "text/plain": [
              "array([0., 1., 1., ..., 0., 0., 0.])"
            ]
          },
          "metadata": {
            "tags": []
          },
          "execution_count": 8
        }
      ]
    },
    {
      "cell_type": "code",
      "metadata": {
        "id": "ebNa9mmVXi8r",
        "colab_type": "code",
        "colab": {}
      },
      "source": [
        "# vectorize labels\n",
        "y_train = np.asanyarray(train_labels).astype('float32')\n",
        "y_test = np.asanyarray(test_labels).astype('float32')"
      ],
      "execution_count": 0,
      "outputs": []
    },
    {
      "cell_type": "code",
      "metadata": {
        "id": "vy7d-BvTaaQj",
        "colab_type": "code",
        "colab": {
          "base_uri": "https://localhost:8080/",
          "height": 119
        },
        "outputId": "2bc54f1d-0482-47ea-8bdd-1c8d2dcd22fa"
      },
      "source": [
        "# build the network\n",
        "from keras import models\n",
        "from keras import layers\n",
        "\n",
        "# build sequential model\n",
        "model = models.Sequential()\n",
        "model.add(layers.Dense(16, activation= 'relu', input_shape = (10000, )))\n",
        "model.add(layers.Dense(16, activation= 'relu'))\n",
        "model.add(layers.Dense(1, activation='sigmoid'))"
      ],
      "execution_count": 10,
      "outputs": [
        {
          "output_type": "stream",
          "text": [
            "WARNING:tensorflow:From /usr/local/lib/python3.6/dist-packages/keras/backend/tensorflow_backend.py:66: The name tf.get_default_graph is deprecated. Please use tf.compat.v1.get_default_graph instead.\n",
            "\n",
            "WARNING:tensorflow:From /usr/local/lib/python3.6/dist-packages/keras/backend/tensorflow_backend.py:541: The name tf.placeholder is deprecated. Please use tf.compat.v1.placeholder instead.\n",
            "\n",
            "WARNING:tensorflow:From /usr/local/lib/python3.6/dist-packages/keras/backend/tensorflow_backend.py:4432: The name tf.random_uniform is deprecated. Please use tf.random.uniform instead.\n",
            "\n"
          ],
          "name": "stdout"
        }
      ]
    },
    {
      "cell_type": "code",
      "metadata": {
        "id": "rniXvYEoTHB3",
        "colab_type": "code",
        "colab": {
          "base_uri": "https://localhost:8080/",
          "height": 156
        },
        "outputId": "a6a540a5-ffd5-4588-8cac-a23e960fee75"
      },
      "source": [
        "# compile the model\n",
        "model.compile(optimizer='rmsprop', \n",
        "             loss ='binary_crossentropy',\n",
        "             metrics = ['accuracy'])"
      ],
      "execution_count": 11,
      "outputs": [
        {
          "output_type": "stream",
          "text": [
            "WARNING:tensorflow:From /usr/local/lib/python3.6/dist-packages/keras/optimizers.py:793: The name tf.train.Optimizer is deprecated. Please use tf.compat.v1.train.Optimizer instead.\n",
            "\n",
            "WARNING:tensorflow:From /usr/local/lib/python3.6/dist-packages/keras/backend/tensorflow_backend.py:3657: The name tf.log is deprecated. Please use tf.math.log instead.\n",
            "\n",
            "WARNING:tensorflow:From /usr/local/lib/python3.6/dist-packages/tensorflow/python/ops/nn_impl.py:180: add_dispatch_support.<locals>.wrapper (from tensorflow.python.ops.array_ops) is deprecated and will be removed in a future version.\n",
            "Instructions for updating:\n",
            "Use tf.where in 2.0, which has the same broadcast rule as np.where\n"
          ],
          "name": "stdout"
        }
      ]
    },
    {
      "cell_type": "code",
      "metadata": {
        "id": "gxagTDzsTcke",
        "colab_type": "code",
        "colab": {}
      },
      "source": [
        "#config the optimizer by customize the optimizer\n",
        "from keras import losses\n",
        "from keras import metrics\n",
        "from keras import optimizers\n",
        "\n",
        "model.compile(optimizer = optimizers.RMSprop(lr = 0.001),\n",
        "             loss = losses.binary_crossentropy,\n",
        "             metrics = [metrics.binary_accuracy])"
      ],
      "execution_count": 0,
      "outputs": []
    },
    {
      "cell_type": "code",
      "metadata": {
        "id": "TAuM9_oZVT_h",
        "colab_type": "code",
        "colab": {}
      },
      "source": [
        "# create validate set\n",
        "x_val = x_train[:10000]\n",
        "partial_x_train = x_train[10000:]\n",
        "\n",
        "y_val = y_train[:10000]\n",
        "partial_y_train = y_train[10000:]"
      ],
      "execution_count": 0,
      "outputs": []
    },
    {
      "cell_type": "code",
      "metadata": {
        "id": "LH3Fd6_gVvdr",
        "colab_type": "code",
        "colab": {
          "base_uri": "https://localhost:8080/",
          "height": 748
        },
        "outputId": "e49aa52e-548b-4a05-c86c-f5ea87187574"
      },
      "source": [
        "# train the model\n",
        "history = model.fit(partial_x_train, \n",
        "                    partial_y_train,\n",
        "                    epochs = 20,\n",
        "                    batch_size = 512,\n",
        "                    validation_data = (x_val, y_val))"
      ],
      "execution_count": 14,
      "outputs": [
        {
          "output_type": "stream",
          "text": [
            "WARNING:tensorflow:From /usr/local/lib/python3.6/dist-packages/keras/backend/tensorflow_backend.py:1033: The name tf.assign_add is deprecated. Please use tf.compat.v1.assign_add instead.\n",
            "\n",
            "Train on 15000 samples, validate on 10000 samples\n",
            "Epoch 1/20\n",
            "15000/15000 [==============================] - 6s 402us/step - loss: 0.5291 - binary_accuracy: 0.7830 - val_loss: 0.4063 - val_binary_accuracy: 0.8700\n",
            "Epoch 2/20\n",
            "15000/15000 [==============================] - 1s 81us/step - loss: 0.3218 - binary_accuracy: 0.9013 - val_loss: 0.3177 - val_binary_accuracy: 0.8838\n",
            "Epoch 3/20\n",
            "15000/15000 [==============================] - 1s 80us/step - loss: 0.2370 - binary_accuracy: 0.9250 - val_loss: 0.2810 - val_binary_accuracy: 0.8908\n",
            "Epoch 4/20\n",
            "15000/15000 [==============================] - 1s 80us/step - loss: 0.1847 - binary_accuracy: 0.9417 - val_loss: 0.3194 - val_binary_accuracy: 0.8706\n",
            "Epoch 5/20\n",
            "15000/15000 [==============================] - 1s 81us/step - loss: 0.1526 - binary_accuracy: 0.9519 - val_loss: 0.2871 - val_binary_accuracy: 0.8859\n",
            "Epoch 6/20\n",
            "15000/15000 [==============================] - 1s 80us/step - loss: 0.1258 - binary_accuracy: 0.9621 - val_loss: 0.2943 - val_binary_accuracy: 0.8861\n",
            "Epoch 7/20\n",
            "15000/15000 [==============================] - 1s 81us/step - loss: 0.1038 - binary_accuracy: 0.9698 - val_loss: 0.3344 - val_binary_accuracy: 0.8743\n",
            "Epoch 8/20\n",
            "15000/15000 [==============================] - 1s 80us/step - loss: 0.0883 - binary_accuracy: 0.9746 - val_loss: 0.3247 - val_binary_accuracy: 0.8824\n",
            "Epoch 9/20\n",
            "15000/15000 [==============================] - 1s 81us/step - loss: 0.0725 - binary_accuracy: 0.9813 - val_loss: 0.3605 - val_binary_accuracy: 0.8744\n",
            "Epoch 10/20\n",
            "15000/15000 [==============================] - 1s 80us/step - loss: 0.0589 - binary_accuracy: 0.9857 - val_loss: 0.3672 - val_binary_accuracy: 0.8772\n",
            "Epoch 11/20\n",
            "15000/15000 [==============================] - 1s 81us/step - loss: 0.0485 - binary_accuracy: 0.9887 - val_loss: 0.3947 - val_binary_accuracy: 0.8742\n",
            "Epoch 12/20\n",
            "15000/15000 [==============================] - 1s 80us/step - loss: 0.0389 - binary_accuracy: 0.9919 - val_loss: 0.4336 - val_binary_accuracy: 0.8772\n",
            "Epoch 13/20\n",
            "15000/15000 [==============================] - 1s 80us/step - loss: 0.0310 - binary_accuracy: 0.9937 - val_loss: 0.4679 - val_binary_accuracy: 0.8655\n",
            "Epoch 14/20\n",
            "15000/15000 [==============================] - 1s 81us/step - loss: 0.0254 - binary_accuracy: 0.9956 - val_loss: 0.4864 - val_binary_accuracy: 0.8679\n",
            "Epoch 15/20\n",
            "15000/15000 [==============================] - 1s 81us/step - loss: 0.0201 - binary_accuracy: 0.9966 - val_loss: 0.5112 - val_binary_accuracy: 0.8716\n",
            "Epoch 16/20\n",
            "15000/15000 [==============================] - 1s 80us/step - loss: 0.0150 - binary_accuracy: 0.9982 - val_loss: 0.5484 - val_binary_accuracy: 0.8697\n",
            "Epoch 17/20\n",
            "15000/15000 [==============================] - 1s 80us/step - loss: 0.0107 - binary_accuracy: 0.9991 - val_loss: 0.7190 - val_binary_accuracy: 0.8551\n",
            "Epoch 18/20\n",
            "15000/15000 [==============================] - 1s 81us/step - loss: 0.0080 - binary_accuracy: 0.9993 - val_loss: 0.6523 - val_binary_accuracy: 0.8587\n",
            "Epoch 19/20\n",
            "15000/15000 [==============================] - 1s 80us/step - loss: 0.0073 - binary_accuracy: 0.9994 - val_loss: 0.6526 - val_binary_accuracy: 0.8660\n",
            "Epoch 20/20\n",
            "15000/15000 [==============================] - 1s 80us/step - loss: 0.0065 - binary_accuracy: 0.9989 - val_loss: 0.6837 - val_binary_accuracy: 0.8667\n"
          ],
          "name": "stdout"
        }
      ]
    },
    {
      "cell_type": "code",
      "metadata": {
        "id": "lHAMQ9OTWrHb",
        "colab_type": "code",
        "colab": {
          "base_uri": "https://localhost:8080/",
          "height": 34
        },
        "outputId": "87fa5cf9-2da4-4144-8a3d-0250141a9e14"
      },
      "source": [
        "# model has an model object which is a dictionary contains everyting happend during training\n",
        "history_obj = history.history\n",
        "history_obj.keys()"
      ],
      "execution_count": 15,
      "outputs": [
        {
          "output_type": "execute_result",
          "data": {
            "text/plain": [
              "dict_keys(['val_loss', 'val_binary_accuracy', 'loss', 'binary_accuracy'])"
            ]
          },
          "metadata": {
            "tags": []
          },
          "execution_count": 15
        }
      ]
    },
    {
      "cell_type": "code",
      "metadata": {
        "id": "9qOeUHxcXF-8",
        "colab_type": "code",
        "colab": {
          "base_uri": "https://localhost:8080/",
          "height": 295
        },
        "outputId": "d4b96ae1-b10c-4274-db18-9329a0159d9c"
      },
      "source": [
        "# plot traing and vaildation loss for 20 epochs\n",
        "import matplotlib.pyplot as plt\n",
        "\n",
        "loss_values = history_obj['loss']\n",
        "val_loss_values = history_obj['val_loss']\n",
        "acc = history_obj['binary_accuracy']\n",
        "epochs = range(1, len(acc)+1)\n",
        "\n",
        "# bo is for blue dot, and b is for sold blue line\n",
        "plt.plot(epochs, loss_values, 'bo', label = 'Training Loss')\n",
        "plt.plot(epochs, val_loss_values, 'b', label = \"validation Loss\")\n",
        "plt.title(\"Training and Validation Loss\")\n",
        "plt.xlabel(\"Epochs\")\n",
        "plt.ylabel('Loss')\n",
        "plt.legend()\n",
        "\n",
        "plt.show()"
      ],
      "execution_count": 16,
      "outputs": [
        {
          "output_type": "display_data",
          "data": {
            "image/png": "[encoded data removed]",
            "text/plain": [
              "<Figure size 432x288 with 1 Axes>"
            ]
          },
          "metadata": {
            "tags": []
          }
        }
      ]
    },
    {
      "cell_type": "code",
      "metadata": {
        "id": "njnFLgwGZDYC",
        "colab_type": "code",
        "colab": {
          "base_uri": "https://localhost:8080/",
          "height": 295
        },
        "outputId": "4ae57c86-1a3f-4b1d-9d6e-009a3c49645e"
      },
      "source": [
        "#plot training and validation accuracy\n",
        "\n",
        "acc_values = history_obj['binary_accuracy']\n",
        "val_acc_values = history_obj['val_binary_accuracy']\n",
        "\n",
        "plt.plot(epochs, acc_values, 'bo', label = 'Training Accuracy')\n",
        "plt.plot(epochs, val_acc_values, 'b', label = \"validation Accuracy\")\n",
        "plt.title(\"Training and Validation Accuracy\")\n",
        "plt.xlabel(\"Epochs\")\n",
        "plt.ylabel('Accuracy')\n",
        "plt.legend()\n",
        "\n",
        "plt.show()"
      ],
      "execution_count": 17,
      "outputs": [
        {
          "output_type": "display_data",
          "data": {
            "image/png": "[encoded data removed]",
            "text/plain": [
              "<Figure size 432x288 with 1 Axes>"
            ]
          },
          "metadata": {
            "tags": []
          }
        }
      ]
    },
    {
      "cell_type": "code",
      "metadata": {
        "id": "vDiso9wuaFhk",
        "colab_type": "code",
        "colab": {
          "base_uri": "https://localhost:8080/",
          "height": 136
        },
        "outputId": "f3cad804-4edc-4ae7-b986-4d03f7499acd"
      },
      "source": [
        "#since start from the 3/4 epochs, the model starts overfitting, as training acc keep increase but val decrease, which means the model can't general to new instance\n",
        "#rebuild the model to make sure it stop optimization as 3 epochs\n",
        "model.fit(x_train, \n",
        "                    y_train,\n",
        "                    epochs = 3,\n",
        "                    batch_size = 512)"
      ],
      "execution_count": 18,
      "outputs": [
        {
          "output_type": "stream",
          "text": [
            "Epoch 1/3\n",
            "25000/25000 [==============================] - 1s 51us/step - loss: 0.2103 - binary_accuracy: 0.9467\n",
            "Epoch 2/3\n",
            "25000/25000 [==============================] - 1s 51us/step - loss: 0.1353 - binary_accuracy: 0.9604\n",
            "Epoch 3/3\n",
            "25000/25000 [==============================] - 1s 52us/step - loss: 0.1103 - binary_accuracy: 0.9666\n"
          ],
          "name": "stdout"
        },
        {
          "output_type": "execute_result",
          "data": {
            "text/plain": [
              "<keras.callbacks.History at 0x7f52a0fa94e0>"
            ]
          },
          "metadata": {
            "tags": []
          },
          "execution_count": 18
        }
      ]
    },
    {
      "cell_type": "code",
      "metadata": {
        "id": "C6AuWSe6a4PX",
        "colab_type": "code",
        "colab": {
          "base_uri": "https://localhost:8080/",
          "height": 51
        },
        "outputId": "653ff0c4-922c-4f07-a8fa-351511cf2a3b"
      },
      "source": [
        "#model evaluation\n",
        "results = model.evaluate(x_test, y_test)\n",
        "results"
      ],
      "execution_count": 19,
      "outputs": [
        {
          "output_type": "stream",
          "text": [
            "25000/25000 [==============================] - 2s 82us/step\n"
          ],
          "name": "stdout"
        },
        {
          "output_type": "execute_result",
          "data": {
            "text/plain": [
              "[0.46336725335121154, 0.86192]"
            ]
          },
          "metadata": {
            "tags": []
          },
          "execution_count": 19
        }
      ]
    },
    {
      "cell_type": "code",
      "metadata": {
        "id": "3QANzIFpcviR",
        "colab_type": "code",
        "colab": {}
      },
      "source": [
        ""
      ],
      "execution_count": 0,
      "outputs": []
    }
  ]
}