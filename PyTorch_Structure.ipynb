{
  "nbformat": 4,
  "nbformat_minor": 0,
  "metadata": {
    "colab": {
      "name": "PyTorch_Structure.ipynb",
      "provenance": [],
      "collapsed_sections": [],
      "authorship_tag": "ABX9TyPMz+XCkGUO/UWRd2v3HPsj",
      "include_colab_link": true
    },
    "kernelspec": {
      "name": "python3",
      "display_name": "Python 3"
    },
    "accelerator": "GPU"
  },
  "cells": [
    {
      "cell_type": "markdown",
      "metadata": {
        "id": "view-in-github",
        "colab_type": "text"
      },
      "source": [
        "<a href=\"https://colab.research.google.com/github/shineloveyc/Deep-Learning_Exercise/blob/main/PyTorch_Structure.ipynb\" target=\"_parent\"><img src=\"https://colab.research.google.com/assets/colab-badge.svg\" alt=\"Open In Colab\"/></a>"
      ]
    },
    {
      "cell_type": "code",
      "metadata": {
        "id": "8q4LZl_Hnqnu"
      },
      "source": [
        "import torch"
      ],
      "execution_count": null,
      "outputs": []
    },
    {
      "cell_type": "code",
      "metadata": {
        "id": "4Osg-MlGoEhV"
      },
      "source": [
        "double_points = torch.ones(10, 2, dtype=torch.double)"
      ],
      "execution_count": null,
      "outputs": []
    },
    {
      "cell_type": "code",
      "metadata": {
        "id": "j_orqjCeodbP",
        "colab": {
          "base_uri": "https://localhost:8080/",
          "height": 34
        },
        "outputId": "f9b3dfc2-9b91-4b99-9d73-4dc126f6e822"
      },
      "source": [
        "double_points.dtype"
      ],
      "execution_count": null,
      "outputs": [
        {
          "output_type": "execute_result",
          "data": {
            "text/plain": [
              "torch.float64"
            ]
          },
          "metadata": {
            "tags": []
          },
          "execution_count": 63
        }
      ]
    },
    {
      "cell_type": "code",
      "metadata": {
        "id": "XJKvN3_yoh5A"
      },
      "source": [
        "short_points = torch.ones(10, 2, dtype=torch.short)"
      ],
      "execution_count": null,
      "outputs": []
    },
    {
      "cell_type": "code",
      "metadata": {
        "id": "LTYE8R9Vopf6",
        "colab": {
          "base_uri": "https://localhost:8080/",
          "height": 34
        },
        "outputId": "601a00ec-68a8-4a9f-ec00-7a975cbd9f5d"
      },
      "source": [
        "short_points.dtype"
      ],
      "execution_count": null,
      "outputs": [
        {
          "output_type": "execute_result",
          "data": {
            "text/plain": [
              "torch.int16"
            ]
          },
          "metadata": {
            "tags": []
          },
          "execution_count": 65
        }
      ]
    },
    {
      "cell_type": "code",
      "metadata": {
        "id": "LapWqB4Losbt"
      },
      "source": [
        "mid_points = torch.tensor([[1,2], [3,4]], dtype=torch.short)"
      ],
      "execution_count": null,
      "outputs": []
    },
    {
      "cell_type": "code",
      "metadata": {
        "id": "TqmSbtiTo9DU",
        "colab": {
          "base_uri": "https://localhost:8080/",
          "height": 187
        },
        "outputId": "1893723b-654d-447a-f4d0-79008fca72a6"
      },
      "source": [
        "points = torch.rand(10,2)\n",
        "points"
      ],
      "execution_count": null,
      "outputs": [
        {
          "output_type": "execute_result",
          "data": {
            "text/plain": [
              "tensor([[0.0419, 0.8695],\n",
              "        [0.4303, 0.7395],\n",
              "        [0.7016, 0.1339],\n",
              "        [0.0357, 0.4711],\n",
              "        [0.9851, 0.3864],\n",
              "        [0.0572, 0.3422],\n",
              "        [0.5875, 0.5593],\n",
              "        [0.2886, 0.5958],\n",
              "        [0.4196, 0.0767],\n",
              "        [0.4907, 0.4738]])"
            ]
          },
          "metadata": {
            "tags": []
          },
          "execution_count": 67
        }
      ]
    },
    {
      "cell_type": "code",
      "metadata": {
        "id": "mYWhIDLjq19E",
        "colab": {
          "base_uri": "https://localhost:8080/",
          "height": 34
        },
        "outputId": "0439d3a5-bb40-4a48-c151-2c10f43a9ab9"
      },
      "source": [
        "points.dtype"
      ],
      "execution_count": null,
      "outputs": [
        {
          "output_type": "execute_result",
          "data": {
            "text/plain": [
              "torch.float32"
            ]
          },
          "metadata": {
            "tags": []
          },
          "execution_count": 68
        }
      ]
    },
    {
      "cell_type": "code",
      "metadata": {
        "id": "bhws4hNaq4nt",
        "colab": {
          "base_uri": "https://localhost:8080/",
          "height": 187
        },
        "outputId": "12c0c26f-f220-4d8f-ea1a-eb2302d283de"
      },
      "source": [
        "#cast a tensor of one type to another type\n",
        "short_points = points.type(torch.short)\n",
        "short_points"
      ],
      "execution_count": null,
      "outputs": [
        {
          "output_type": "execute_result",
          "data": {
            "text/plain": [
              "tensor([[0, 0],\n",
              "        [0, 0],\n",
              "        [0, 0],\n",
              "        [0, 0],\n",
              "        [0, 0],\n",
              "        [0, 0],\n",
              "        [0, 0],\n",
              "        [0, 0],\n",
              "        [0, 0],\n",
              "        [0, 0]], dtype=torch.int16)"
            ]
          },
          "metadata": {
            "tags": []
          },
          "execution_count": 69
        }
      ]
    },
    {
      "cell_type": "code",
      "metadata": {
        "id": "H1KVglZXrZBN",
        "colab": {
          "base_uri": "https://localhost:8080/",
          "height": 34
        },
        "outputId": "faab83fa-61a7-422e-faa6-934c747e239f"
      },
      "source": [
        "some_list = list(range(6))\n",
        "some_list[:]"
      ],
      "execution_count": null,
      "outputs": [
        {
          "output_type": "execute_result",
          "data": {
            "text/plain": [
              "[0, 1, 2, 3, 4, 5]"
            ]
          },
          "metadata": {
            "tags": []
          },
          "execution_count": 70
        }
      ]
    },
    {
      "cell_type": "code",
      "metadata": {
        "id": "1VWqL5L0rikw",
        "colab": {
          "base_uri": "https://localhost:8080/",
          "height": 34
        },
        "outputId": "652388e6-4a87-4b31-b7e5-80d9d82afa00"
      },
      "source": [
        "#step at 2, from 0-3\n",
        "some_list[1:4:2]"
      ],
      "execution_count": null,
      "outputs": [
        {
          "output_type": "execute_result",
          "data": {
            "text/plain": [
              "[1, 3]"
            ]
          },
          "metadata": {
            "tags": []
          },
          "execution_count": 71
        }
      ]
    },
    {
      "cell_type": "code",
      "metadata": {
        "id": "2r9DQTOHrxVG"
      },
      "source": [
        "#covert tensor to numpy array\n",
        "points = torch.ones(10, 2, dtype = torch.int32)"
      ],
      "execution_count": null,
      "outputs": []
    },
    {
      "cell_type": "code",
      "metadata": {
        "id": "PS_tbn2SsR2G",
        "colab": {
          "base_uri": "https://localhost:8080/",
          "height": 34
        },
        "outputId": "98eff739-29f9-41da-ee76-404a19e98e92"
      },
      "source": [
        "num_points = points.numpy()\n",
        "num_points.dtype"
      ],
      "execution_count": null,
      "outputs": [
        {
          "output_type": "execute_result",
          "data": {
            "text/plain": [
              "dtype('int32')"
            ]
          },
          "metadata": {
            "tags": []
          },
          "execution_count": 73
        }
      ]
    },
    {
      "cell_type": "code",
      "metadata": {
        "id": "ytwe3V4-sZoM",
        "colab": {
          "base_uri": "https://localhost:8080/",
          "height": 187
        },
        "outputId": "ad92d5a4-1a54-454e-8ec3-092af051ce43"
      },
      "source": [
        "num_points"
      ],
      "execution_count": null,
      "outputs": [
        {
          "output_type": "execute_result",
          "data": {
            "text/plain": [
              "array([[1, 1],\n",
              "       [1, 1],\n",
              "       [1, 1],\n",
              "       [1, 1],\n",
              "       [1, 1],\n",
              "       [1, 1],\n",
              "       [1, 1],\n",
              "       [1, 1],\n",
              "       [1, 1],\n",
              "       [1, 1]], dtype=int32)"
            ]
          },
          "metadata": {
            "tags": []
          },
          "execution_count": 74
        }
      ]
    },
    {
      "cell_type": "code",
      "metadata": {
        "id": "TO5Yp6HGscbC",
        "colab": {
          "base_uri": "https://localhost:8080/",
          "height": 187
        },
        "outputId": "e2bf87fa-aa1f-4673-9941-d070d151ce14"
      },
      "source": [
        "#covert numpy array to torch tensor\n",
        "torch_points = torch.from_numpy(num_points)\n",
        "torch_points"
      ],
      "execution_count": null,
      "outputs": [
        {
          "output_type": "execute_result",
          "data": {
            "text/plain": [
              "tensor([[1, 1],\n",
              "        [1, 1],\n",
              "        [1, 1],\n",
              "        [1, 1],\n",
              "        [1, 1],\n",
              "        [1, 1],\n",
              "        [1, 1],\n",
              "        [1, 1],\n",
              "        [1, 1],\n",
              "        [1, 1]], dtype=torch.int32)"
            ]
          },
          "metadata": {
            "tags": []
          },
          "execution_count": 75
        }
      ]
    },
    {
      "cell_type": "code",
      "metadata": {
        "id": "jSca0Srgszo4"
      },
      "source": [
        "#save data\n",
        "#torch.save(torch_points, 'file_path')"
      ],
      "execution_count": null,
      "outputs": []
    },
    {
      "cell_type": "code",
      "metadata": {
        "id": "YNPqumSOvGpp"
      },
      "source": [
        "#load data\n",
        "#points = torch.load('file_path)"
      ],
      "execution_count": null,
      "outputs": []
    },
    {
      "cell_type": "code",
      "metadata": {
        "id": "7DnHSu89wQX1"
      },
      "source": [
        "points_gpu = torch.tensor([[1.0, 4.0], [2.0, 1.0], [3.0, 4.0]],\n",
        "device='cuda')"
      ],
      "execution_count": null,
      "outputs": []
    },
    {
      "cell_type": "code",
      "metadata": {
        "id": "uGcvChQNwWS1"
      },
      "source": [
        "#cope a tensor created on CPU to GPU\n",
        "points_gpu = points.to(device = 'cuda')"
      ],
      "execution_count": null,
      "outputs": []
    },
    {
      "cell_type": "code",
      "metadata": {
        "id": "TeinXrEWwjPv"
      },
      "source": [
        "points_cpu = points.to(device = 'cpu')\n",
        "points_cpu = points.cpu() #short methor"
      ],
      "execution_count": null,
      "outputs": []
    },
    {
      "cell_type": "code",
      "metadata": {
        "id": "xmCRIa4IxMm1",
        "colab": {
          "base_uri": "https://localhost:8080/",
          "height": 204
        },
        "outputId": "87a10849-a884-4663-bed8-53ab5c402dcb"
      },
      "source": [
        "#create a tensor a \n",
        "a = torch.tensor(list(range(9)))\n",
        "a\n",
        "print(a.size())\n",
        "a.storage()"
      ],
      "execution_count": null,
      "outputs": [
        {
          "output_type": "stream",
          "text": [
            "torch.Size([9])\n"
          ],
          "name": "stdout"
        },
        {
          "output_type": "execute_result",
          "data": {
            "text/plain": [
              " 0\n",
              " 1\n",
              " 2\n",
              " 3\n",
              " 4\n",
              " 5\n",
              " 6\n",
              " 7\n",
              " 8\n",
              "[torch.LongStorage of size 9]"
            ]
          },
          "metadata": {
            "tags": []
          },
          "execution_count": 81
        }
      ]
    },
    {
      "cell_type": "code",
      "metadata": {
        "id": "lYzDLdnp1_E5",
        "colab": {
          "base_uri": "https://localhost:8080/",
          "height": 34
        },
        "outputId": "7acb95b2-a7f6-4ac0-8d15-14aecb222c19"
      },
      "source": [
        "a.stride()"
      ],
      "execution_count": null,
      "outputs": [
        {
          "output_type": "execute_result",
          "data": {
            "text/plain": [
              "(1,)"
            ]
          },
          "metadata": {
            "tags": []
          },
          "execution_count": 82
        }
      ]
    },
    {
      "cell_type": "code",
      "metadata": {
        "id": "rwQYLDL-2fnA"
      },
      "source": [
        "b = a.view(3,3)"
      ],
      "execution_count": null,
      "outputs": []
    },
    {
      "cell_type": "code",
      "metadata": {
        "id": "OJ-nexYy2mel",
        "colab": {
          "base_uri": "https://localhost:8080/",
          "height": 34
        },
        "outputId": "cb43b6cf-4c5f-4ad6-8cad-a19e7b9a7126"
      },
      "source": [
        "b[1,1]"
      ],
      "execution_count": null,
      "outputs": [
        {
          "output_type": "execute_result",
          "data": {
            "text/plain": [
              "tensor(4)"
            ]
          },
          "metadata": {
            "tags": []
          },
          "execution_count": 84
        }
      ]
    },
    {
      "cell_type": "code",
      "metadata": {
        "id": "W9FI4JfZ2qAe",
        "colab": {
          "base_uri": "https://localhost:8080/",
          "height": 68
        },
        "outputId": "d45ba922-56fd-4d00-c89c-9f863fdb6827"
      },
      "source": [
        "b"
      ],
      "execution_count": null,
      "outputs": [
        {
          "output_type": "execute_result",
          "data": {
            "text/plain": [
              "tensor([[0, 1, 2],\n",
              "        [3, 4, 5],\n",
              "        [6, 7, 8]])"
            ]
          },
          "metadata": {
            "tags": []
          },
          "execution_count": 85
        }
      ]
    },
    {
      "cell_type": "code",
      "metadata": {
        "id": "Wgp-V6Si2sBq"
      },
      "source": [
        "c = b[1:, 1:]"
      ],
      "execution_count": null,
      "outputs": []
    },
    {
      "cell_type": "code",
      "metadata": {
        "id": "8SoAVWUZ2v_k",
        "colab": {
          "base_uri": "https://localhost:8080/",
          "height": 34
        },
        "outputId": "aafe5518-46f6-4c71-f95e-3aa536543261"
      },
      "source": [
        "c.size()"
      ],
      "execution_count": null,
      "outputs": [
        {
          "output_type": "execute_result",
          "data": {
            "text/plain": [
              "torch.Size([2, 2])"
            ]
          },
          "metadata": {
            "tags": []
          },
          "execution_count": 87
        }
      ]
    },
    {
      "cell_type": "code",
      "metadata": {
        "id": "JQ9Dytnw21uL",
        "colab": {
          "base_uri": "https://localhost:8080/",
          "height": 34
        },
        "outputId": "1b3b6c0e-891c-4652-bf12-b12ea5b3e38c"
      },
      "source": [
        "c.storage_offset()"
      ],
      "execution_count": null,
      "outputs": [
        {
          "output_type": "execute_result",
          "data": {
            "text/plain": [
              "4"
            ]
          },
          "metadata": {
            "tags": []
          },
          "execution_count": 88
        }
      ]
    },
    {
      "cell_type": "code",
      "metadata": {
        "id": "GJL5ZXWO24GN",
        "colab": {
          "base_uri": "https://localhost:8080/",
          "height": 34
        },
        "outputId": "f9a6a464-1b03-4de3-f6f6-383a46b3b62e"
      },
      "source": [
        "c.stride()"
      ],
      "execution_count": null,
      "outputs": [
        {
          "output_type": "execute_result",
          "data": {
            "text/plain": [
              "(3, 1)"
            ]
          },
          "metadata": {
            "tags": []
          },
          "execution_count": 89
        }
      ]
    },
    {
      "cell_type": "code",
      "metadata": {
        "id": "HMTEZCsxOawx",
        "colab": {
          "base_uri": "https://localhost:8080/",
          "height": 34
        },
        "outputId": "9b091bf6-1a65-4bb6-a064-4b5f88824cbf"
      },
      "source": [
        "torch.max(a)"
      ],
      "execution_count": null,
      "outputs": [
        {
          "output_type": "execute_result",
          "data": {
            "text/plain": [
              "tensor(8)"
            ]
          },
          "metadata": {
            "tags": []
          },
          "execution_count": 90
        }
      ]
    },
    {
      "cell_type": "code",
      "metadata": {
        "id": "UjlpHxYIO97m",
        "colab": {
          "base_uri": "https://localhost:8080/",
          "height": 255
        },
        "outputId": "02459f1f-2909-4815-c452-156fb2d39c64"
      },
      "source": [
        "some_tensor = torch.ones(3, 4, 5)\n",
        "some_tensor"
      ],
      "execution_count": null,
      "outputs": [
        {
          "output_type": "execute_result",
          "data": {
            "text/plain": [
              "tensor([[[1., 1., 1., 1., 1.],\n",
              "         [1., 1., 1., 1., 1.],\n",
              "         [1., 1., 1., 1., 1.],\n",
              "         [1., 1., 1., 1., 1.]],\n",
              "\n",
              "        [[1., 1., 1., 1., 1.],\n",
              "         [1., 1., 1., 1., 1.],\n",
              "         [1., 1., 1., 1., 1.],\n",
              "         [1., 1., 1., 1., 1.]],\n",
              "\n",
              "        [[1., 1., 1., 1., 1.],\n",
              "         [1., 1., 1., 1., 1.],\n",
              "         [1., 1., 1., 1., 1.],\n",
              "         [1., 1., 1., 1., 1.]]])"
            ]
          },
          "metadata": {
            "tags": []
          },
          "execution_count": 91
        }
      ]
    },
    {
      "cell_type": "code",
      "metadata": {
        "id": "jrhEpHYKMNt3"
      },
      "source": [
        "#specify 1st an 2nd dimension to be transfered\n",
        "some_tensor_t = some_tensor.transpose(0, 2)"
      ],
      "execution_count": null,
      "outputs": []
    },
    {
      "cell_type": "code",
      "metadata": {
        "id": "LLKgRqYYMTKM",
        "colab": {
          "base_uri": "https://localhost:8080/",
          "height": 425
        },
        "outputId": "4dcbaf6d-e288-4864-e0ec-9a9c5d4495a6"
      },
      "source": [
        "some_tensor_t"
      ],
      "execution_count": null,
      "outputs": [
        {
          "output_type": "execute_result",
          "data": {
            "text/plain": [
              "tensor([[[1., 1., 1.],\n",
              "         [1., 1., 1.],\n",
              "         [1., 1., 1.],\n",
              "         [1., 1., 1.]],\n",
              "\n",
              "        [[1., 1., 1.],\n",
              "         [1., 1., 1.],\n",
              "         [1., 1., 1.],\n",
              "         [1., 1., 1.]],\n",
              "\n",
              "        [[1., 1., 1.],\n",
              "         [1., 1., 1.],\n",
              "         [1., 1., 1.],\n",
              "         [1., 1., 1.]],\n",
              "\n",
              "        [[1., 1., 1.],\n",
              "         [1., 1., 1.],\n",
              "         [1., 1., 1.],\n",
              "         [1., 1., 1.]],\n",
              "\n",
              "        [[1., 1., 1.],\n",
              "         [1., 1., 1.],\n",
              "         [1., 1., 1.],\n",
              "         [1., 1., 1.]]])"
            ]
          },
          "metadata": {
            "tags": []
          },
          "execution_count": 93
        }
      ]
    },
    {
      "cell_type": "code",
      "metadata": {
        "id": "tv9ZgWbHMXTA",
        "colab": {
          "base_uri": "https://localhost:8080/",
          "height": 34
        },
        "outputId": "88a8fde8-3708-4d03-e414-087006992db0"
      },
      "source": [
        "some_tensor_t.shape"
      ],
      "execution_count": null,
      "outputs": [
        {
          "output_type": "execute_result",
          "data": {
            "text/plain": [
              "torch.Size([5, 4, 3])"
            ]
          },
          "metadata": {
            "tags": []
          },
          "execution_count": 94
        }
      ]
    },
    {
      "cell_type": "code",
      "metadata": {
        "id": "dGb9jdGlHAQ-",
        "colab": {
          "base_uri": "https://localhost:8080/",
          "height": 51
        },
        "outputId": "e5d34227-6804-42e0-bf22-81449a144fad"
      },
      "source": [
        "#add dimension to current tenosr\n",
        "a = torch.ones(2,2)\n",
        "a.unsqueeze(0)"
      ],
      "execution_count": null,
      "outputs": [
        {
          "output_type": "execute_result",
          "data": {
            "text/plain": [
              "tensor([[[1., 1.],\n",
              "         [1., 1.]]])"
            ]
          },
          "metadata": {
            "tags": []
          },
          "execution_count": 104
        }
      ]
    },
    {
      "cell_type": "code",
      "metadata": {
        "id": "tAdbPuMgIHZ4",
        "colab": {
          "base_uri": "https://localhost:8080/",
          "height": 51
        },
        "outputId": "1a4ea33e-267a-41c3-91f1-5cc771a3e205"
      },
      "source": [
        "#remove a dimension just created\n",
        "a.squeeze(0)\n",
        "a"
      ],
      "execution_count": null,
      "outputs": [
        {
          "output_type": "execute_result",
          "data": {
            "text/plain": [
              "tensor([[1., 1.],\n",
              "        [1., 1.]])"
            ]
          },
          "metadata": {
            "tags": []
          },
          "execution_count": 105
        }
      ]
    },
    {
      "cell_type": "code",
      "metadata": {
        "id": "zMkrsR1VIu4g",
        "colab": {
          "base_uri": "https://localhost:8080/",
          "height": 102
        },
        "outputId": "87189b87-555f-4613-aa2c-d5a7ffae9090"
      },
      "source": [
        "#create a random of shape 5*3 in the interval of [3, 7)\n",
        "\n",
        "tensor_two = 3 + torch.rand(5,3) *(7-3)\n",
        "\n",
        "tensor_two"
      ],
      "execution_count": null,
      "outputs": [
        {
          "output_type": "execute_result",
          "data": {
            "text/plain": [
              "tensor([[3.9926, 6.5973, 4.4461],\n",
              "        [3.7275, 4.4088, 5.7046],\n",
              "        [5.0430, 6.7282, 5.1941],\n",
              "        [5.2092, 5.8302, 3.5231],\n",
              "        [6.3243, 3.8731, 6.3444]])"
            ]
          },
          "metadata": {
            "tags": []
          },
          "execution_count": 106
        }
      ]
    },
    {
      "cell_type": "code",
      "metadata": {
        "id": "t7io7bwwJT1l",
        "colab": {
          "base_uri": "https://localhost:8080/",
          "height": 68
        },
        "outputId": "e2829ca3-6b16-454e-93d6-c90bdf32c61d"
      },
      "source": [
        "#creat a tensor with values from normal distribution\n",
        "norm_tensor = torch.rand(3,4)\n",
        "\n",
        "norm_tensor.normal_()"
      ],
      "execution_count": null,
      "outputs": [
        {
          "output_type": "execute_result",
          "data": {
            "text/plain": [
              "tensor([[-1.5349, -0.1361,  0.4024, -0.3068],\n",
              "        [-0.7589,  1.4844, -1.1028,  0.6510],\n",
              "        [-1.0628,  0.0034,  0.7290,  0.5734]])"
            ]
          },
          "metadata": {
            "tags": []
          },
          "execution_count": 112
        }
      ]
    },
    {
      "cell_type": "code",
      "metadata": {
        "id": "_AEyYy7rCqbj",
        "colab": {
          "base_uri": "https://localhost:8080/",
          "height": 85
        },
        "outputId": "20b1537b-6def-49cd-ea91-f12a1e145219"
      },
      "source": [
        "#get index of all not zero elemnt\n",
        "a = torch.tensor([1, 1, 1,0, 1])\n",
        "torch.nonzero(a)"
      ],
      "execution_count": null,
      "outputs": [
        {
          "output_type": "execute_result",
          "data": {
            "text/plain": [
              "tensor([[0],\n",
              "        [1],\n",
              "        [2],\n",
              "        [4]])"
            ]
          },
          "metadata": {
            "tags": []
          },
          "execution_count": 2
        }
      ]
    },
    {
      "cell_type": "code",
      "metadata": {
        "id": "m5tvupa6DBx-",
        "colab": {
          "base_uri": "https://localhost:8080/",
          "height": 119
        },
        "outputId": "2ee2abab-a499-4a65-d3e1-79f118dec363"
      },
      "source": [
        "#horizontally stack four copies of a tensor\n",
        "a = torch.rand(3 ,1)\n",
        "\n",
        "print(a)\n",
        "\n",
        "a.expand(3,4)"
      ],
      "execution_count": null,
      "outputs": [
        {
          "output_type": "stream",
          "text": [
            "tensor([[0.4299],\n",
            "        [0.9743],\n",
            "        [0.0817]])\n"
          ],
          "name": "stdout"
        },
        {
          "output_type": "execute_result",
          "data": {
            "text/plain": [
              "tensor([[0.4299, 0.4299, 0.4299, 0.4299],\n",
              "        [0.9743, 0.9743, 0.9743, 0.9743],\n",
              "        [0.0817, 0.0817, 0.0817, 0.0817]])"
            ]
          },
          "metadata": {
            "tags": []
          },
          "execution_count": 5
        }
      ]
    },
    {
      "cell_type": "code",
      "metadata": {
        "id": "riVIIkR5Du4b",
        "colab": {
          "base_uri": "https://localhost:8080/",
          "height": 255
        },
        "outputId": "56335eb0-22de-45b0-d394-55a2f6e8cd9e"
      },
      "source": [
        "#matrix-matrix mul\n",
        "a = torch.rand(3, 4, 5)\n",
        "b= torch.rand(3, 5,4)\n",
        "torch.bmm(a, b)"
      ],
      "execution_count": null,
      "outputs": [
        {
          "output_type": "execute_result",
          "data": {
            "text/plain": [
              "tensor([[[1.0374, 1.5075, 1.3461, 1.2124],\n",
              "         [0.8802, 1.4528, 1.0614, 1.0947],\n",
              "         [0.8112, 1.3739, 0.8812, 0.6770],\n",
              "         [1.1762, 1.5802, 1.6741, 1.5327]],\n",
              "\n",
              "        [[2.8459, 1.5342, 2.3221, 2.1092],\n",
              "         [2.6839, 1.5158, 2.1400, 1.9079],\n",
              "         [1.6406, 0.5910, 1.4691, 1.4356],\n",
              "         [2.1189, 0.8667, 1.6615, 1.6354]],\n",
              "\n",
              "        [[1.3987, 0.6566, 1.4227, 0.6785],\n",
              "         [1.9363, 1.3375, 1.4644, 1.5497],\n",
              "         [1.0512, 0.8664, 0.6438, 0.9198],\n",
              "         [1.7153, 1.2152, 1.5253, 1.3459]]])"
            ]
          },
          "metadata": {
            "tags": []
          },
          "execution_count": 6
        }
      ]
    },
    {
      "cell_type": "code",
      "metadata": {
        "id": "G16w0S_-D-qd",
        "colab": {
          "base_uri": "https://localhost:8080/",
          "height": 255
        },
        "outputId": "620f0692-ae6e-4d2c-8566-d8202ca4f101"
      },
      "source": [
        "#matrix mul example 2\n",
        "a = torch.rand(3 ,4 ,5)\n",
        "b = torch.rand(5, 4)\n",
        "\n",
        "torch.bmm(a, b.unsqueeze(0).expand(a.size(0), *b.size()))"
      ],
      "execution_count": null,
      "outputs": [
        {
          "output_type": "execute_result",
          "data": {
            "text/plain": [
              "tensor([[[1.2207, 0.8916, 0.8030, 0.6006],\n",
              "         [1.5474, 1.1520, 1.1563, 1.6090],\n",
              "         [1.1774, 0.8529, 0.8860, 1.1925],\n",
              "         [0.3456, 0.3054, 0.3303, 0.4972]],\n",
              "\n",
              "        [[1.9667, 1.3526, 1.3785, 1.6315],\n",
              "         [2.1370, 1.7361, 1.6377, 1.9372],\n",
              "         [1.6276, 1.0742, 0.9637, 0.8156],\n",
              "         [1.4501, 1.2403, 1.1078, 1.0475]],\n",
              "\n",
              "        [[1.1919, 0.9878, 0.9535, 1.4858],\n",
              "         [1.2271, 1.0519, 1.0166, 1.2463],\n",
              "         [1.2486, 1.0157, 0.9817, 1.2563],\n",
              "         [1.5219, 1.2063, 1.0312, 0.9003]]])"
            ]
          },
          "metadata": {
            "tags": []
          },
          "execution_count": 8
        }
      ]
    }
  ]
}