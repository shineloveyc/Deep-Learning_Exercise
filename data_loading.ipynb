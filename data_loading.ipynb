{
  "nbformat": 4,
  "nbformat_minor": 0,
  "metadata": {
    "colab": {
      "name": "data_loading.ipynb",
      "provenance": [],
      "authorship_tag": "ABX9TyO+iVEnU8ZeuKqHePdfzN4+",
      "include_colab_link": true
    },
    "kernelspec": {
      "name": "python3",
      "display_name": "Python 3"
    },
    "accelerator": "GPU"
  },
  "cells": [
    {
      "cell_type": "markdown",
      "metadata": {
        "id": "view-in-github",
        "colab_type": "text"
      },
      "source": [
        "<a href=\"https://colab.research.google.com/github/shineloveyc/Deep-Learning_Exercise/blob/main/data_loading.ipynb\" target=\"_parent\"><img src=\"https://colab.research.google.com/assets/colab-badge.svg\" alt=\"Open In Colab\"/></a>"
      ]
    },
    {
      "cell_type": "code",
      "metadata": {
        "id": "3ZyA2Dzi778e"
      },
      "source": [
        "import torch\n",
        "import numpy as np\n",
        "import pandas as pd"
      ],
      "execution_count": 1,
      "outputs": []
    },
    {
      "cell_type": "code",
      "metadata": {
        "id": "mJFD7yi_8Ce1"
      },
      "source": [
        "import csv\n",
        "wine_path = 'https://archive.ics.uci.edu/ml/machine-learning-databases/wine-quality/winequality-white.csv'\n",
        "\n",
        "#using numpy to load data\n",
        "wineq_numpy  = np.loadtxt(wine_path, dtype = np.float32, delimiter=\";\", skiprows=1)"
      ],
      "execution_count": 2,
      "outputs": []
    },
    {
      "cell_type": "code",
      "metadata": {
        "id": "Y8tKETZM-2R2",
        "colab": {
          "base_uri": "https://localhost:8080/"
        },
        "outputId": "d262768d-f4b3-4d2e-cf44-124299976fb7"
      },
      "source": [
        "wineq_numpy"
      ],
      "execution_count": 3,
      "outputs": [
        {
          "output_type": "execute_result",
          "data": {
            "text/plain": [
              "array([[ 7.  ,  0.27,  0.36, ...,  0.45,  8.8 ,  6.  ],\n",
              "       [ 6.3 ,  0.3 ,  0.34, ...,  0.49,  9.5 ,  6.  ],\n",
              "       [ 8.1 ,  0.28,  0.4 , ...,  0.44, 10.1 ,  6.  ],\n",
              "       ...,\n",
              "       [ 6.5 ,  0.24,  0.19, ...,  0.46,  9.4 ,  6.  ],\n",
              "       [ 5.5 ,  0.29,  0.3 , ...,  0.38, 12.8 ,  7.  ],\n",
              "       [ 6.  ,  0.21,  0.38, ...,  0.32, 11.8 ,  6.  ]], dtype=float32)"
            ]
          },
          "metadata": {
            "tags": []
          },
          "execution_count": 3
        }
      ]
    },
    {
      "cell_type": "code",
      "metadata": {
        "id": "AkvFAVwUAqyd",
        "colab": {
          "base_uri": "https://localhost:8080/"
        },
        "outputId": "dd76537e-e347-407c-b90c-bdcb012e88a6"
      },
      "source": [
        "wineq_numpy.shape"
      ],
      "execution_count": 4,
      "outputs": [
        {
          "output_type": "execute_result",
          "data": {
            "text/plain": [
              "(4898, 12)"
            ]
          },
          "metadata": {
            "tags": []
          },
          "execution_count": 4
        }
      ]
    },
    {
      "cell_type": "code",
      "metadata": {
        "id": "Exy3tCQI_Am2",
        "colab": {
          "base_uri": "https://localhost:8080/"
        },
        "outputId": "95608bb8-193a-4efe-9363-cec8fbccb96a"
      },
      "source": [
        "#deisplay columns\n",
        "wineq_df = pd.read_csv(wine_path, delimiter=';')\n",
        "\n",
        "wineq_df.columns"
      ],
      "execution_count": 5,
      "outputs": [
        {
          "output_type": "execute_result",
          "data": {
            "text/plain": [
              "Index(['fixed acidity', 'volatile acidity', 'citric acid', 'residual sugar',\n",
              "       'chlorides', 'free sulfur dioxide', 'total sulfur dioxide', 'density',\n",
              "       'pH', 'sulphates', 'alcohol', 'quality'],\n",
              "      dtype='object')"
            ]
          },
          "metadata": {
            "tags": []
          },
          "execution_count": 5
        }
      ]
    },
    {
      "cell_type": "code",
      "metadata": {
        "id": "FAPwATdpBJd6"
      },
      "source": [
        "#convert numpy to tensor\n",
        "wineq_tensor = torch.from_numpy(wineq_numpy)"
      ],
      "execution_count": 6,
      "outputs": []
    },
    {
      "cell_type": "code",
      "metadata": {
        "id": "mgCzVRTeBWv3",
        "colab": {
          "base_uri": "https://localhost:8080/"
        },
        "outputId": "9e01f375-e5d1-4cb0-fc89-72f8cff57231"
      },
      "source": [
        "wineq_tensor.shape, wineq_tensor.type()"
      ],
      "execution_count": 7,
      "outputs": [
        {
          "output_type": "execute_result",
          "data": {
            "text/plain": [
              "(torch.Size([4898, 12]), 'torch.FloatTensor')"
            ]
          },
          "metadata": {
            "tags": []
          },
          "execution_count": 7
        }
      ]
    },
    {
      "cell_type": "code",
      "metadata": {
        "id": "ekB4JsizCKrA",
        "colab": {
          "base_uri": "https://localhost:8080/"
        },
        "outputId": "17faf54a-aa19-4a1d-b5d8-f2e6b9d04c8b"
      },
      "source": [
        "#training and target variable\n",
        "data = wineq_tensor[:, :-1]\n",
        "\n",
        "data, data.shape"
      ],
      "execution_count": 8,
      "outputs": [
        {
          "output_type": "execute_result",
          "data": {
            "text/plain": [
              "(tensor([[ 7.0000,  0.2700,  0.3600,  ...,  3.0000,  0.4500,  8.8000],\n",
              "         [ 6.3000,  0.3000,  0.3400,  ...,  3.3000,  0.4900,  9.5000],\n",
              "         [ 8.1000,  0.2800,  0.4000,  ...,  3.2600,  0.4400, 10.1000],\n",
              "         ...,\n",
              "         [ 6.5000,  0.2400,  0.1900,  ...,  2.9900,  0.4600,  9.4000],\n",
              "         [ 5.5000,  0.2900,  0.3000,  ...,  3.3400,  0.3800, 12.8000],\n",
              "         [ 6.0000,  0.2100,  0.3800,  ...,  3.2600,  0.3200, 11.8000]]),\n",
              " torch.Size([4898, 11]))"
            ]
          },
          "metadata": {
            "tags": []
          },
          "execution_count": 8
        }
      ]
    },
    {
      "cell_type": "code",
      "metadata": {
        "id": "FbbQ7l_-Cbzm",
        "colab": {
          "base_uri": "https://localhost:8080/"
        },
        "outputId": "9c39a3d9-59cc-41df-9229-0455f8bd8427"
      },
      "source": [
        "target = wineq_tensor[:, -1]\n",
        "target, target.shape"
      ],
      "execution_count": 9,
      "outputs": [
        {
          "output_type": "execute_result",
          "data": {
            "text/plain": [
              "(tensor([6., 6., 6.,  ..., 6., 7., 6.]), torch.Size([4898]))"
            ]
          },
          "metadata": {
            "tags": []
          },
          "execution_count": 9
        }
      ]
    },
    {
      "cell_type": "code",
      "metadata": {
        "id": "O0UvWpOFCjyD",
        "colab": {
          "base_uri": "https://localhost:8080/"
        },
        "outputId": "beb66754-5cd2-4108-c26a-c56fb222d315"
      },
      "source": [
        "#transfer the target vaiable to integer\n",
        "target = wineq_tensor[:,-1].long()\n",
        "target"
      ],
      "execution_count": 10,
      "outputs": [
        {
          "output_type": "execute_result",
          "data": {
            "text/plain": [
              "tensor([6, 6, 6,  ..., 6, 7, 6])"
            ]
          },
          "metadata": {
            "tags": []
          },
          "execution_count": 10
        }
      ]
    },
    {
      "cell_type": "code",
      "metadata": {
        "id": "XGiRUh_zC11U",
        "colab": {
          "base_uri": "https://localhost:8080/"
        },
        "outputId": "8b60ea08-7521-45f6-98cb-e3a07bdcfdc0"
      },
      "source": [
        "#one hot encoding target variable\n",
        "target_onehot = torch.zeros(target.shape[0], 10)\n",
        "\n",
        "#inplace update data\n",
        "#send the element of 1 to the following column index of target.unsqueeze(1) along the column of target_onehot\n",
        "#becasue target_onehot has two dimension(4898,10), so use target.unsqueeze(1) to produce 2 dim tensor\n",
        "target_onehot.scatter_(1, target.unsqueeze(1), 1.0)"
      ],
      "execution_count": 11,
      "outputs": [
        {
          "output_type": "execute_result",
          "data": {
            "text/plain": [
              "tensor([[0., 0., 0.,  ..., 0., 0., 0.],\n",
              "        [0., 0., 0.,  ..., 0., 0., 0.],\n",
              "        [0., 0., 0.,  ..., 0., 0., 0.],\n",
              "        ...,\n",
              "        [0., 0., 0.,  ..., 0., 0., 0.],\n",
              "        [0., 0., 0.,  ..., 1., 0., 0.],\n",
              "        [0., 0., 0.,  ..., 0., 0., 0.]])"
            ]
          },
          "metadata": {
            "tags": []
          },
          "execution_count": 11
        }
      ]
    },
    {
      "cell_type": "code",
      "metadata": {
        "id": "I4P9oZBrLXdR",
        "colab": {
          "base_uri": "https://localhost:8080/"
        },
        "outputId": "4b7e2d5c-784e-470c-a626-c0f9ed20d02d"
      },
      "source": [
        "target.unsqueeze(1).shape"
      ],
      "execution_count": 12,
      "outputs": [
        {
          "output_type": "execute_result",
          "data": {
            "text/plain": [
              "torch.Size([4898, 1])"
            ]
          },
          "metadata": {
            "tags": []
          },
          "execution_count": 12
        }
      ]
    },
    {
      "cell_type": "code",
      "metadata": {
        "id": "ohWSHq28MA3k",
        "colab": {
          "base_uri": "https://localhost:8080/"
        },
        "outputId": "e34ce5a3-fe99-4b43-f32d-524eff0f2662"
      },
      "source": [
        "#data explore\n",
        "data_mean = torch.mean(data, dim = 0)\n",
        "data_mean"
      ],
      "execution_count": 13,
      "outputs": [
        {
          "output_type": "execute_result",
          "data": {
            "text/plain": [
              "tensor([6.8548e+00, 2.7824e-01, 3.3419e-01, 6.3914e+00, 4.5772e-02, 3.5308e+01,\n",
              "        1.3836e+02, 9.9403e-01, 3.1883e+00, 4.8985e-01, 1.0514e+01])"
            ]
          },
          "metadata": {
            "tags": []
          },
          "execution_count": 13
        }
      ]
    },
    {
      "cell_type": "code",
      "metadata": {
        "id": "PqJrkvq5MV8o",
        "colab": {
          "base_uri": "https://localhost:8080/"
        },
        "outputId": "a3d240c6-9da3-4743-e951-eb04261d507c"
      },
      "source": [
        "data_var = torch.var(data, dim = 0)\n",
        "data_var"
      ],
      "execution_count": 14,
      "outputs": [
        {
          "output_type": "execute_result",
          "data": {
            "text/plain": [
              "tensor([7.1211e-01, 1.0160e-02, 1.4646e-02, 2.5726e+01, 4.7733e-04, 2.8924e+02,\n",
              "        1.8061e+03, 8.9455e-06, 2.2801e-02, 1.3025e-02, 1.5144e+00])"
            ]
          },
          "metadata": {
            "tags": []
          },
          "execution_count": 14
        }
      ]
    },
    {
      "cell_type": "code",
      "metadata": {
        "id": "IW9MpesUNvzx",
        "colab": {
          "base_uri": "https://localhost:8080/"
        },
        "outputId": "b37093ca-00c1-4aec-a185-dfc44241e09a"
      },
      "source": [
        "data_norimalized = (data - data_mean)/torch.sqrt(data_var)\n",
        "\n",
        "data_norimalized"
      ],
      "execution_count": 15,
      "outputs": [
        {
          "output_type": "execute_result",
          "data": {
            "text/plain": [
              "tensor([[ 1.7208e-01, -8.1761e-02,  2.1326e-01,  ..., -1.2468e+00,\n",
              "         -3.4915e-01, -1.3930e+00],\n",
              "        [-6.5743e-01,  2.1587e-01,  4.7996e-02,  ...,  7.3995e-01,\n",
              "          1.3422e-03, -8.2419e-01],\n",
              "        [ 1.4756e+00,  1.7450e-02,  5.4378e-01,  ...,  4.7505e-01,\n",
              "         -4.3677e-01, -3.3663e-01],\n",
              "        ...,\n",
              "        [-4.2043e-01, -3.7940e-01, -1.1915e+00,  ..., -1.3130e+00,\n",
              "         -2.6153e-01, -9.0545e-01],\n",
              "        [-1.6054e+00,  1.1666e-01, -2.8253e-01,  ...,  1.0049e+00,\n",
              "         -9.6251e-01,  1.8574e+00],\n",
              "        [-1.0129e+00, -6.7703e-01,  3.7852e-01,  ...,  4.7505e-01,\n",
              "         -1.4882e+00,  1.0448e+00]])"
            ]
          },
          "metadata": {
            "tags": []
          },
          "execution_count": 15
        }
      ]
    },
    {
      "cell_type": "code",
      "metadata": {
        "id": "8cZSHRISMU1F",
        "colab": {
          "base_uri": "https://localhost:8080/"
        },
        "outputId": "cf508d69-1633-4d5d-a2e6-33904d4e2d33"
      },
      "source": [
        "#use le advance index function to determine which rows correspond to a score less than or equal to 3\n",
        "bad_indexes = torch.le(target, 3)\n",
        "bad_indexes.shape, bad_indexes.dtype, bad_indexes.sum()"
      ],
      "execution_count": 16,
      "outputs": [
        {
          "output_type": "execute_result",
          "data": {
            "text/plain": [
              "(torch.Size([4898]), torch.bool, tensor(20))"
            ]
          },
          "metadata": {
            "tags": []
          },
          "execution_count": 16
        }
      ]
    },
    {
      "cell_type": "code",
      "metadata": {
        "id": "4RSIwBJXOnt5",
        "colab": {
          "base_uri": "https://localhost:8080/"
        },
        "outputId": "b5a191a6-c802-4223-be05-5d804539cc5d"
      },
      "source": [
        "bad_data = data[bad_indexes]\n",
        "bad_data.shape"
      ],
      "execution_count": 17,
      "outputs": [
        {
          "output_type": "execute_result",
          "data": {
            "text/plain": [
              "torch.Size([20, 11])"
            ]
          },
          "metadata": {
            "tags": []
          },
          "execution_count": 17
        }
      ]
    },
    {
      "cell_type": "code",
      "metadata": {
        "id": "FVOXtC1mPcpv",
        "colab": {
          "base_uri": "https://localhost:8080/"
        },
        "outputId": "4d376038-2ecf-4097-dd90-7b34f95e9b2a"
      },
      "source": [
        "#group wine quality\n",
        "\n",
        "bad_data = data[torch.le(target, 3)]\n",
        "\n",
        "mid_data = data[torch.gt(target, 3) & torch.lt(target, 7)]\n",
        "\n",
        "good_data = data[torch.ge(target, 7)]\n",
        "\n",
        "#mean of grouped data\n",
        "bad_mean = torch.mean(bad_data, dim = 0)\n",
        "mid_mean = torch.mean(mid_data, dim = 0)\n",
        "good_mean = torch.mean(good_data, dim =0)\n",
        "\n",
        "for i, args in enumerate(zip(wineq_df.columns, bad_mean, mid_mean, good_mean)):\n",
        "  print('{:2} {:20} {:6.2f} {:6.2f} {:6.2f}'.format(i, *args))"
      ],
      "execution_count": 18,
      "outputs": [
        {
          "output_type": "stream",
          "text": [
            " 0 fixed acidity          7.60   6.89   6.73\n",
            " 1 volatile acidity       0.33   0.28   0.27\n",
            " 2 citric acid            0.34   0.34   0.33\n",
            " 3 residual sugar         6.39   6.71   5.26\n",
            " 4 chlorides              0.05   0.05   0.04\n",
            " 5 free sulfur dioxide   53.33  35.42  34.55\n",
            " 6 total sulfur dioxide 170.60 141.83 125.25\n",
            " 7 density                0.99   0.99   0.99\n",
            " 8 pH                     3.19   3.18   3.22\n",
            " 9 sulphates              0.47   0.49   0.50\n",
            "10 alcohol               10.34  10.26  11.42\n"
          ],
          "name": "stdout"
        }
      ]
    },
    {
      "cell_type": "code",
      "metadata": {
        "id": "-PjuE-w3Rg7f",
        "colab": {
          "base_uri": "https://localhost:8080/"
        },
        "outputId": "de93e238-ffd3-4eeb-fa28-4892c01a9716"
      },
      "source": [
        "#find bad wine\n",
        "total_sulfur_threshold = 141.83\n",
        "total_sulfur_data = data[:, 6]\n",
        "predicated_index = torch.lt(total_sulfur_data, total_sulfur_threshold)\n",
        "\n",
        "predicated_index.shape, predicated_index.dtype, predicated_index.sum()"
      ],
      "execution_count": 19,
      "outputs": [
        {
          "output_type": "execute_result",
          "data": {
            "text/plain": [
              "(torch.Size([4898]), torch.bool, tensor(2727))"
            ]
          },
          "metadata": {
            "tags": []
          },
          "execution_count": 19
        }
      ]
    },
    {
      "cell_type": "code",
      "metadata": {
        "id": "5_oqaPudSotC",
        "colab": {
          "base_uri": "https://localhost:8080/"
        },
        "outputId": "6d1bd998-51fd-48f5-897a-c245f18a8254"
      },
      "source": [
        "#get index with good wine from real target\n",
        "actual_indexes = torch.gt(target, 5)\n",
        "\n",
        "actual_indexes.shape, actual_indexes.dtype, actual_indexes.sum()"
      ],
      "execution_count": 20,
      "outputs": [
        {
          "output_type": "execute_result",
          "data": {
            "text/plain": [
              "(torch.Size([4898]), torch.bool, tensor(3258))"
            ]
          },
          "metadata": {
            "tags": []
          },
          "execution_count": 20
        }
      ]
    },
    {
      "cell_type": "code",
      "metadata": {
        "id": "tdaUI7nzTC1r",
        "colab": {
          "base_uri": "https://localhost:8080/"
        },
        "outputId": "1b87ac52-26d4-4e93-9b20-2a5ed89e9ead"
      },
      "source": [
        "#since the threashold predict less good wine compare actual target, need to find th intersection\n",
        "n_matches = torch.sum(actual_indexes & predicated_index).item()\n",
        "\n",
        "n_predicted = torch.sum(predicated_index).item()\n",
        "\n",
        "n_actual = torch.sum(actual_indexes).item()\n",
        "\n",
        "n_matches, n_matches/n_predicted, n_matches/n_actual"
      ],
      "execution_count": 21,
      "outputs": [
        {
          "output_type": "execute_result",
          "data": {
            "text/plain": [
              "(2018, 0.74000733406674, 0.6193984039287906)"
            ]
          },
          "metadata": {
            "tags": []
          },
          "execution_count": 21
        }
      ]
    },
    {
      "cell_type": "markdown",
      "metadata": {
        "id": "R0KTeraUT6dI"
      },
      "source": [
        "## Time Series"
      ]
    },
    {
      "cell_type": "code",
      "metadata": {
        "id": "lcPKkNtrT9Cz",
        "colab": {
          "base_uri": "https://localhost:8080/"
        },
        "outputId": "b2fdafe4-2fdd-433d-99a7-81405a742cb4"
      },
      "source": [
        "from google.colab import drive\n",
        "drive.mount('/content/gdrive', force_remount=True)\n",
        "root_dir = \"/content/gdrive/My Drive/\"\n",
        "base_dir = root_dir + 'Colab Notebooks/'"
      ],
      "execution_count": 22,
      "outputs": [
        {
          "output_type": "stream",
          "text": [
            "Mounted at /content/gdrive\n"
          ],
          "name": "stdout"
        }
      ]
    },
    {
      "cell_type": "code",
      "metadata": {
        "id": "iChuhGzVWPPn"
      },
      "source": [
        "from pathlib import Path\n",
        "import os"
      ],
      "execution_count": 23,
      "outputs": []
    },
    {
      "cell_type": "code",
      "metadata": {
        "id": "UuWRG1ojWNDj",
        "colab": {
          "base_uri": "https://localhost:8080/"
        },
        "outputId": "67fc4a23-5fcd-471b-f2b2-275db5b4e452"
      },
      "source": [
        "#set up the path to read data\n",
        "path = Path(base_dir + 'data/Bike-Sharing-Dataset/')\n",
        "print(path)"
      ],
      "execution_count": 24,
      "outputs": [
        {
          "output_type": "stream",
          "text": [
            "/content/gdrive/My Drive/Colab Notebooks/data/Bike-Sharing-Dataset\n"
          ],
          "name": "stdout"
        }
      ]
    },
    {
      "cell_type": "code",
      "metadata": {
        "id": "WnU-curYWebY"
      },
      "source": [
        "#check current working directory\n",
        "os.chdir(path)"
      ],
      "execution_count": 25,
      "outputs": []
    },
    {
      "cell_type": "code",
      "metadata": {
        "id": "LsNsTsrVWjQD",
        "colab": {
          "base_uri": "https://localhost:8080/"
        },
        "outputId": "6962c571-afe7-4e2e-f70b-ec71685a9354"
      },
      "source": [
        "bike_numpy = np.loadtxt('hour.csv', dtype=np.float32, delimiter=\",\", skiprows=1, converters={1:lambda x : float(x[8:10])}) # convert data strings to numbers corresponding to the day to the month in column I\n",
        "\n",
        "bikes = torch.from_numpy(bike_numpy)\n",
        "\n",
        "bikes"
      ],
      "execution_count": 26,
      "outputs": [
        {
          "output_type": "execute_result",
          "data": {
            "text/plain": [
              "tensor([[1.0000e+00, 1.0000e+00, 1.0000e+00,  ..., 3.0000e+00, 1.3000e+01,\n",
              "         1.6000e+01],\n",
              "        [2.0000e+00, 1.0000e+00, 1.0000e+00,  ..., 8.0000e+00, 3.2000e+01,\n",
              "         4.0000e+01],\n",
              "        [3.0000e+00, 1.0000e+00, 1.0000e+00,  ..., 5.0000e+00, 2.7000e+01,\n",
              "         3.2000e+01],\n",
              "        ...,\n",
              "        [1.7377e+04, 3.1000e+01, 1.0000e+00,  ..., 7.0000e+00, 8.3000e+01,\n",
              "         9.0000e+01],\n",
              "        [1.7378e+04, 3.1000e+01, 1.0000e+00,  ..., 1.3000e+01, 4.8000e+01,\n",
              "         6.1000e+01],\n",
              "        [1.7379e+04, 3.1000e+01, 1.0000e+00,  ..., 1.2000e+01, 3.7000e+01,\n",
              "         4.9000e+01]])"
            ]
          },
          "metadata": {
            "tags": []
          },
          "execution_count": 26
        }
      ]
    },
    {
      "cell_type": "code",
      "metadata": {
        "id": "aCk8SX6OXNt0",
        "colab": {
          "base_uri": "https://localhost:8080/"
        },
        "outputId": "022a78bd-5602-490e-868f-aa07c68bc1f4"
      },
      "source": [
        "bikes.shape, bikes.stride()"
      ],
      "execution_count": 27,
      "outputs": [
        {
          "output_type": "execute_result",
          "data": {
            "text/plain": [
              "(torch.Size([17379, 17]), (17, 1))"
            ]
          },
          "metadata": {
            "tags": []
          },
          "execution_count": 27
        }
      ]
    },
    {
      "cell_type": "code",
      "metadata": {
        "id": "snDw0NSBYYeC",
        "colab": {
          "base_uri": "https://localhost:8080/",
          "height": 215
        },
        "outputId": "56dc38ed-0abd-44a0-9060-91d6b98b08a3"
      },
      "source": [
        "#reshape data to have three axes(day, hour, then 17 columns attribute)\n",
        "daily_bikes = bikes.view(-1, 24, bikes.shape[1])\n",
        "\n",
        "daily_bikes.shape, daily_bikes.stride()"
      ],
      "execution_count": 28,
      "outputs": [
        {
          "output_type": "error",
          "ename": "RuntimeError",
          "evalue": "ignored",
          "traceback": [
            "\u001b[0;31m---------------------------------------------------------------------------\u001b[0m",
            "\u001b[0;31mRuntimeError\u001b[0m                              Traceback (most recent call last)",
            "\u001b[0;32m<ipython-input-28-1947295c36f1>\u001b[0m in \u001b[0;36m<module>\u001b[0;34m()\u001b[0m\n\u001b[1;32m      1\u001b[0m \u001b[0;31m#reshape data to have three axes(day, hour, then 17 columns attribute)\u001b[0m\u001b[0;34m\u001b[0m\u001b[0;34m\u001b[0m\u001b[0;34m\u001b[0m\u001b[0m\n\u001b[0;32m----> 2\u001b[0;31m \u001b[0mdaily_bikes\u001b[0m \u001b[0;34m=\u001b[0m \u001b[0mbikes\u001b[0m\u001b[0;34m.\u001b[0m\u001b[0mview\u001b[0m\u001b[0;34m(\u001b[0m\u001b[0;34m-\u001b[0m\u001b[0;36m1\u001b[0m\u001b[0;34m,\u001b[0m \u001b[0;36m24\u001b[0m\u001b[0;34m,\u001b[0m \u001b[0mbikes\u001b[0m\u001b[0;34m.\u001b[0m\u001b[0mshape\u001b[0m\u001b[0;34m[\u001b[0m\u001b[0;36m1\u001b[0m\u001b[0;34m]\u001b[0m\u001b[0;34m)\u001b[0m\u001b[0;34m\u001b[0m\u001b[0;34m\u001b[0m\u001b[0m\n\u001b[0m\u001b[1;32m      3\u001b[0m \u001b[0;34m\u001b[0m\u001b[0m\n\u001b[1;32m      4\u001b[0m \u001b[0mdaily_bikes\u001b[0m\u001b[0;34m.\u001b[0m\u001b[0mshape\u001b[0m\u001b[0;34m,\u001b[0m \u001b[0mdaily_bikes\u001b[0m\u001b[0;34m.\u001b[0m\u001b[0mstride\u001b[0m\u001b[0;34m(\u001b[0m\u001b[0;34m)\u001b[0m\u001b[0;34m\u001b[0m\u001b[0;34m\u001b[0m\u001b[0m\n",
            "\u001b[0;31mRuntimeError\u001b[0m: shape '[-1, 24, 17]' is invalid for input of size 295443"
          ]
        }
      ]
    }
  ]
}